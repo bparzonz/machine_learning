{
 "cells": [
  {
   "cell_type": "markdown",
   "metadata": {},
   "source": [
    "# Homework 1 - Linear Regression\n",
    "\n",
    "## Dataset\n",
    "The dataset you will be using is the \"Bike Sharing\". \n",
    "\n",
    "There are two data files: \"BikeSharing_training.csv\" and \"BikeSharing_Xtest.csv\"<br/>\n",
    "Both files have the following fields, except cnt which is not available in \"BikeSharing_Xtest.csv\"\n",
    "\n",
    "Features:\n",
    "- season : season (1:winter, 2:spring, 3:summer, 4:fall)\n",
    "- mnth : month ( 1 to 12)\n",
    "- hr : hour (0 to 23)\n",
    "- holiday : weather day is holiday or not\n",
    "- weekday : day of the week\n",
    "- workingday : if day is neither weekend nor holiday is 1, otherwise is 0.\n",
    "+ weathersit :\n",
    "- 1: Clear, Few clouds, Partly cloudy, Partly cloudy\n",
    "- 2: Mist + Cloudy, Mist + Broken clouds, Mist + Few clouds, Mist\n",
    "- 3: Light Snow, Light Rain + Thunderstorm + Scattered clouds, Light Rain + Scattered clouds\n",
    "- 4: Heavy Rain + Ice Pallets + Thunderstorm + Mist, Snow + Fog\n",
    "- temp : Normalized temperature in Celsius. The values are derived via (t-t_min)/(t_max-t_min), t_min=-8, t_max=+39 (only in hourly scale)\n",
    "- atemp: Normalized feeling temperature in Celsius. The values are derived via (t-t_min)/(t_max-t_min), t_min=-16, t_max=+50 (only in hourly scale)\n",
    "- hum: Normalized humidity. The values are divided to 100 (max)\n",
    "- windspeed: Normalized wind speed. The values are divided to 67 (max)\n",
    "\n",
    "Target:\n",
    "- cnt: count of total rental bikes\n",
    "\n",
    "\n",
    "Training dataset, \"BikeSharing_training.csv\", contains 300 rows and 12 columns. This is the training set containing both of the features and the target.<br/>\n",
    "Test dataset, \"BikeSharing_Xtest.csv\", contains 200 rows and 11 columns. This is the test set which only contains the features.<br/>\n",
    "\n",
    "Your goal is to predict the number of total rental bikes (cnt) based on the features."
   ]
  },
  {
   "cell_type": "code",
   "execution_count": 2,
   "metadata": {},
   "outputs": [],
   "source": [
    "import csv\n",
    "import numpy as np\n",
    "import pandas as pd"
   ]
  },
  {
   "cell_type": "markdown",
   "metadata": {},
   "source": [
    "Load the training data and View the first 5 lines"
   ]
  },
  {
   "cell_type": "code",
   "execution_count": 3,
   "metadata": {},
   "outputs": [
    {
     "output_type": "execute_result",
     "data": {
      "text/plain": [
       "   season  mnth  hr  holiday  weekday  workingday  weathersit  temp   atemp  \\\n",
       "0       1    12  16        0        5           1           1  0.42  0.4242   \n",
       "1       4    10   9        0        0           0           2  0.50  0.4848   \n",
       "2       3     9   1        0        0           0           2  0.62  0.5606   \n",
       "3       3     6  22        0        3           1           1  0.70  0.6364   \n",
       "4       3     7  12        0        1           1           2  0.80  0.7424   \n",
       "\n",
       "    hum  windspeed  cnt  \n",
       "0  0.47     0.1940  283  \n",
       "1  0.55     0.4179  330  \n",
       "2  0.88     0.0000   88  \n",
       "3  0.42     0.1940  183  \n",
       "4  0.52     0.1642  314  "
      ],
      "text/html": "<div>\n<style scoped>\n    .dataframe tbody tr th:only-of-type {\n        vertical-align: middle;\n    }\n\n    .dataframe tbody tr th {\n        vertical-align: top;\n    }\n\n    .dataframe thead th {\n        text-align: right;\n    }\n</style>\n<table border=\"1\" class=\"dataframe\">\n  <thead>\n    <tr style=\"text-align: right;\">\n      <th></th>\n      <th>season</th>\n      <th>mnth</th>\n      <th>hr</th>\n      <th>holiday</th>\n      <th>weekday</th>\n      <th>workingday</th>\n      <th>weathersit</th>\n      <th>temp</th>\n      <th>atemp</th>\n      <th>hum</th>\n      <th>windspeed</th>\n      <th>cnt</th>\n    </tr>\n  </thead>\n  <tbody>\n    <tr>\n      <th>0</th>\n      <td>1</td>\n      <td>12</td>\n      <td>16</td>\n      <td>0</td>\n      <td>5</td>\n      <td>1</td>\n      <td>1</td>\n      <td>0.42</td>\n      <td>0.4242</td>\n      <td>0.47</td>\n      <td>0.1940</td>\n      <td>283</td>\n    </tr>\n    <tr>\n      <th>1</th>\n      <td>4</td>\n      <td>10</td>\n      <td>9</td>\n      <td>0</td>\n      <td>0</td>\n      <td>0</td>\n      <td>2</td>\n      <td>0.50</td>\n      <td>0.4848</td>\n      <td>0.55</td>\n      <td>0.4179</td>\n      <td>330</td>\n    </tr>\n    <tr>\n      <th>2</th>\n      <td>3</td>\n      <td>9</td>\n      <td>1</td>\n      <td>0</td>\n      <td>0</td>\n      <td>0</td>\n      <td>2</td>\n      <td>0.62</td>\n      <td>0.5606</td>\n      <td>0.88</td>\n      <td>0.0000</td>\n      <td>88</td>\n    </tr>\n    <tr>\n      <th>3</th>\n      <td>3</td>\n      <td>6</td>\n      <td>22</td>\n      <td>0</td>\n      <td>3</td>\n      <td>1</td>\n      <td>1</td>\n      <td>0.70</td>\n      <td>0.6364</td>\n      <td>0.42</td>\n      <td>0.1940</td>\n      <td>183</td>\n    </tr>\n    <tr>\n      <th>4</th>\n      <td>3</td>\n      <td>7</td>\n      <td>12</td>\n      <td>0</td>\n      <td>1</td>\n      <td>1</td>\n      <td>2</td>\n      <td>0.80</td>\n      <td>0.7424</td>\n      <td>0.52</td>\n      <td>0.1642</td>\n      <td>314</td>\n    </tr>\n  </tbody>\n</table>\n</div>"
     },
     "metadata": {},
     "execution_count": 3
    }
   ],
   "source": [
    "# Load the data\n",
    "training = pd.read_csv(\"BikeSharing_training.csv\")\n",
    "\n",
    "# Show the first 5 lines\n",
    "training.head()"
   ]
  },
  {
   "cell_type": "markdown",
   "metadata": {},
   "source": [
    "## Data Exploration\n",
    "We can plot a histogram of the dataframe for the features: \"temp\", \"atemp\",\"hum\",\"windspeed\" to understand the distributions of the continuous values.<br/>\n"
   ]
  },
  {
   "cell_type": "code",
   "execution_count": 4,
   "metadata": {},
   "outputs": [
    {
     "output_type": "execute_result",
     "data": {
      "text/plain": [
       "array([[<matplotlib.axes._subplots.AxesSubplot object at 0x7fb54e5b65e0>,\n",
       "        <matplotlib.axes._subplots.AxesSubplot object at 0x7fb54e601af0>],\n",
       "       [<matplotlib.axes._subplots.AxesSubplot object at 0x7fb54e631f70>,\n",
       "        <matplotlib.axes._subplots.AxesSubplot object at 0x7fb54e669430>]],\n",
       "      dtype=object)"
      ]
     },
     "metadata": {},
     "execution_count": 4
    },
    {
     "output_type": "display_data",
     "data": {
      "text/plain": "<Figure size 360x360 with 4 Axes>",
      "image/svg+xml": "<?xml version=\"1.0\" encoding=\"utf-8\" standalone=\"no\"?>\n<!DOCTYPE svg PUBLIC \"-//W3C//DTD SVG 1.1//EN\"\n  \"http://www.w3.org/Graphics/SVG/1.1/DTD/svg11.dtd\">\n<!-- Created with matplotlib (https://matplotlib.org/) -->\n<svg height=\"317.99625pt\" version=\"1.1\" viewBox=\"0 0 318.743979 317.99625\" width=\"318.743979pt\" xmlns=\"http://www.w3.org/2000/svg\" xmlns:xlink=\"http://www.w3.org/1999/xlink\">\n <defs>\n  <style type=\"text/css\">\n*{stroke-linecap:butt;stroke-linejoin:round;}\n  </style>\n </defs>\n <g id=\"figure_1\">\n  <g id=\"patch_1\">\n   <path d=\"M 0 317.99625 \nL 318.743979 317.99625 \nL 318.743979 0 \nL 0 0 \nz\n\" style=\"fill:none;\"/>\n  </g>\n  <g id=\"axes_1\">\n   <g id=\"patch_2\">\n    <path d=\"M 26.925 140.492038 \nL 148.229348 140.492038 \nL 148.229348 22.318125 \nL 26.925 22.318125 \nz\n\" style=\"fill:#ffffff;\"/>\n   </g>\n   <g id=\"patch_3\">\n    <path clip-path=\"url(#p9800f995fb)\" d=\"M 32.438834 140.492038 \nL 43.466502 140.492038 \nL 43.466502 120.394434 \nL 32.438834 120.394434 \nz\n\" style=\"fill:#1f77b4;\"/>\n   </g>\n   <g id=\"patch_4\">\n    <path clip-path=\"url(#p9800f995fb)\" d=\"M 43.466502 140.492038 \nL 54.49417 140.492038 \nL 54.49417 96.277309 \nL 43.466502 96.277309 \nz\n\" style=\"fill:#1f77b4;\"/>\n   </g>\n   <g id=\"patch_5\">\n    <path clip-path=\"url(#p9800f995fb)\" d=\"M 54.49417 140.492038 \nL 65.521838 140.492038 \nL 65.521838 76.179704 \nL 54.49417 76.179704 \nz\n\" style=\"fill:#1f77b4;\"/>\n   </g>\n   <g id=\"patch_6\">\n    <path clip-path=\"url(#p9800f995fb)\" d=\"M 65.521838 140.492038 \nL 76.549506 140.492038 \nL 76.549506 78.189465 \nL 65.521838 78.189465 \nz\n\" style=\"fill:#1f77b4;\"/>\n   </g>\n   <g id=\"patch_7\">\n    <path clip-path=\"url(#p9800f995fb)\" d=\"M 76.549506 140.492038 \nL 87.577174 140.492038 \nL 87.577174 64.121142 \nL 76.549506 64.121142 \nz\n\" style=\"fill:#1f77b4;\"/>\n   </g>\n   <g id=\"patch_8\">\n    <path clip-path=\"url(#p9800f995fb)\" d=\"M 87.577174 140.492038 \nL 98.604842 140.492038 \nL 98.604842 27.945454 \nL 87.577174 27.945454 \nz\n\" style=\"fill:#1f77b4;\"/>\n   </g>\n   <g id=\"patch_9\">\n    <path clip-path=\"url(#p9800f995fb)\" d=\"M 98.604842 140.492038 \nL 109.63251 140.492038 \nL 109.63251 46.033298 \nL 98.604842 46.033298 \nz\n\" style=\"fill:#1f77b4;\"/>\n   </g>\n   <g id=\"patch_10\">\n    <path clip-path=\"url(#p9800f995fb)\" d=\"M 109.63251 140.492038 \nL 120.660178 140.492038 \nL 120.660178 64.121142 \nL 109.63251 64.121142 \nz\n\" style=\"fill:#1f77b4;\"/>\n   </g>\n   <g id=\"patch_11\">\n    <path clip-path=\"url(#p9800f995fb)\" d=\"M 120.660178 140.492038 \nL 131.687846 140.492038 \nL 131.687846 100.29683 \nL 120.660178 100.29683 \nz\n\" style=\"fill:#1f77b4;\"/>\n   </g>\n   <g id=\"patch_12\">\n    <path clip-path=\"url(#p9800f995fb)\" d=\"M 131.687846 140.492038 \nL 142.715514 140.492038 \nL 142.715514 128.433475 \nL 131.687846 128.433475 \nz\n\" style=\"fill:#1f77b4;\"/>\n   </g>\n   <g id=\"matplotlib.axis_1\">\n    <g id=\"xtick_1\">\n     <g id=\"line2d_1\">\n      <path clip-path=\"url(#p9800f995fb)\" d=\"M 56.823446 140.492038 \nL 56.823446 22.318125 \n\" style=\"fill:none;stroke:#b0b0b0;stroke-linecap:square;stroke-width:0.8;\"/>\n     </g>\n     <g id=\"line2d_2\">\n      <defs>\n       <path d=\"M 0 0 \nL 0 3.5 \n\" id=\"m59fef38dd1\" style=\"stroke:#000000;stroke-width:0.8;\"/>\n      </defs>\n      <g>\n       <use style=\"stroke:#000000;stroke-width:0.8;\" x=\"56.823446\" xlink:href=\"#m59fef38dd1\" y=\"140.492038\"/>\n      </g>\n     </g>\n     <g id=\"text_1\">\n      <!-- 0.25 -->\n      <defs>\n       <path d=\"M 31.78125 66.40625 \nQ 24.171875 66.40625 20.328125 58.90625 \nQ 16.5 51.421875 16.5 36.375 \nQ 16.5 21.390625 20.328125 13.890625 \nQ 24.171875 6.390625 31.78125 6.390625 \nQ 39.453125 6.390625 43.28125 13.890625 \nQ 47.125 21.390625 47.125 36.375 \nQ 47.125 51.421875 43.28125 58.90625 \nQ 39.453125 66.40625 31.78125 66.40625 \nz\nM 31.78125 74.21875 \nQ 44.046875 74.21875 50.515625 64.515625 \nQ 56.984375 54.828125 56.984375 36.375 \nQ 56.984375 17.96875 50.515625 8.265625 \nQ 44.046875 -1.421875 31.78125 -1.421875 \nQ 19.53125 -1.421875 13.0625 8.265625 \nQ 6.59375 17.96875 6.59375 36.375 \nQ 6.59375 54.828125 13.0625 64.515625 \nQ 19.53125 74.21875 31.78125 74.21875 \nz\n\" id=\"DejaVuSans-48\"/>\n       <path d=\"M 10.6875 12.40625 \nL 21 12.40625 \nL 21 0 \nL 10.6875 0 \nz\n\" id=\"DejaVuSans-46\"/>\n       <path d=\"M 19.1875 8.296875 \nL 53.609375 8.296875 \nL 53.609375 0 \nL 7.328125 0 \nL 7.328125 8.296875 \nQ 12.9375 14.109375 22.625 23.890625 \nQ 32.328125 33.6875 34.8125 36.53125 \nQ 39.546875 41.84375 41.421875 45.53125 \nQ 43.3125 49.21875 43.3125 52.78125 \nQ 43.3125 58.59375 39.234375 62.25 \nQ 35.15625 65.921875 28.609375 65.921875 \nQ 23.96875 65.921875 18.8125 64.3125 \nQ 13.671875 62.703125 7.8125 59.421875 \nL 7.8125 69.390625 \nQ 13.765625 71.78125 18.9375 73 \nQ 24.125 74.21875 28.421875 74.21875 \nQ 39.75 74.21875 46.484375 68.546875 \nQ 53.21875 62.890625 53.21875 53.421875 \nQ 53.21875 48.921875 51.53125 44.890625 \nQ 49.859375 40.875 45.40625 35.40625 \nQ 44.1875 33.984375 37.640625 27.21875 \nQ 31.109375 20.453125 19.1875 8.296875 \nz\n\" id=\"DejaVuSans-50\"/>\n       <path d=\"M 10.796875 72.90625 \nL 49.515625 72.90625 \nL 49.515625 64.59375 \nL 19.828125 64.59375 \nL 19.828125 46.734375 \nQ 21.96875 47.46875 24.109375 47.828125 \nQ 26.265625 48.1875 28.421875 48.1875 \nQ 40.625 48.1875 47.75 41.5 \nQ 54.890625 34.8125 54.890625 23.390625 \nQ 54.890625 11.625 47.5625 5.09375 \nQ 40.234375 -1.421875 26.90625 -1.421875 \nQ 22.3125 -1.421875 17.546875 -0.640625 \nQ 12.796875 0.140625 7.71875 1.703125 \nL 7.71875 11.625 \nQ 12.109375 9.234375 16.796875 8.0625 \nQ 21.484375 6.890625 26.703125 6.890625 \nQ 35.15625 6.890625 40.078125 11.328125 \nQ 45.015625 15.765625 45.015625 23.390625 \nQ 45.015625 31 40.078125 35.4375 \nQ 35.15625 39.890625 26.703125 39.890625 \nQ 22.75 39.890625 18.8125 39.015625 \nQ 14.890625 38.140625 10.796875 36.28125 \nz\n\" id=\"DejaVuSans-53\"/>\n      </defs>\n      <g transform=\"translate(45.690634 155.090476)scale(0.1 -0.1)\">\n       <use xlink:href=\"#DejaVuSans-48\"/>\n       <use x=\"63.623047\" xlink:href=\"#DejaVuSans-46\"/>\n       <use x=\"95.410156\" xlink:href=\"#DejaVuSans-50\"/>\n       <use x=\"159.033203\" xlink:href=\"#DejaVuSans-53\"/>\n      </g>\n     </g>\n    </g>\n    <g id=\"xtick_2\">\n     <g id=\"line2d_3\">\n      <path clip-path=\"url(#p9800f995fb)\" d=\"M 91.818585 140.492038 \nL 91.818585 22.318125 \n\" style=\"fill:none;stroke:#b0b0b0;stroke-linecap:square;stroke-width:0.8;\"/>\n     </g>\n     <g id=\"line2d_4\">\n      <g>\n       <use style=\"stroke:#000000;stroke-width:0.8;\" x=\"91.818585\" xlink:href=\"#m59fef38dd1\" y=\"140.492038\"/>\n      </g>\n     </g>\n     <g id=\"text_2\">\n      <!-- 0.50 -->\n      <g transform=\"translate(80.685772 155.090476)scale(0.1 -0.1)\">\n       <use xlink:href=\"#DejaVuSans-48\"/>\n       <use x=\"63.623047\" xlink:href=\"#DejaVuSans-46\"/>\n       <use x=\"95.410156\" xlink:href=\"#DejaVuSans-53\"/>\n       <use x=\"159.033203\" xlink:href=\"#DejaVuSans-48\"/>\n      </g>\n     </g>\n    </g>\n    <g id=\"xtick_3\">\n     <g id=\"line2d_5\">\n      <path clip-path=\"url(#p9800f995fb)\" d=\"M 126.813723 140.492038 \nL 126.813723 22.318125 \n\" style=\"fill:none;stroke:#b0b0b0;stroke-linecap:square;stroke-width:0.8;\"/>\n     </g>\n     <g id=\"line2d_6\">\n      <g>\n       <use style=\"stroke:#000000;stroke-width:0.8;\" x=\"126.813723\" xlink:href=\"#m59fef38dd1\" y=\"140.492038\"/>\n      </g>\n     </g>\n     <g id=\"text_3\">\n      <!-- 0.75 -->\n      <defs>\n       <path d=\"M 8.203125 72.90625 \nL 55.078125 72.90625 \nL 55.078125 68.703125 \nL 28.609375 0 \nL 18.3125 0 \nL 43.21875 64.59375 \nL 8.203125 64.59375 \nz\n\" id=\"DejaVuSans-55\"/>\n      </defs>\n      <g transform=\"translate(115.68091 155.090476)scale(0.1 -0.1)\">\n       <use xlink:href=\"#DejaVuSans-48\"/>\n       <use x=\"63.623047\" xlink:href=\"#DejaVuSans-46\"/>\n       <use x=\"95.410156\" xlink:href=\"#DejaVuSans-55\"/>\n       <use x=\"159.033203\" xlink:href=\"#DejaVuSans-53\"/>\n      </g>\n     </g>\n    </g>\n   </g>\n   <g id=\"matplotlib.axis_2\">\n    <g id=\"ytick_1\">\n     <g id=\"line2d_7\">\n      <path clip-path=\"url(#p9800f995fb)\" d=\"M 26.925 140.492038 \nL 148.229348 140.492038 \n\" style=\"fill:none;stroke:#b0b0b0;stroke-linecap:square;stroke-width:0.8;\"/>\n     </g>\n     <g id=\"line2d_8\">\n      <defs>\n       <path d=\"M 0 0 \nL -3.5 0 \n\" id=\"mcb3548de39\" style=\"stroke:#000000;stroke-width:0.8;\"/>\n      </defs>\n      <g>\n       <use style=\"stroke:#000000;stroke-width:0.8;\" x=\"26.925\" xlink:href=\"#mcb3548de39\" y=\"140.492038\"/>\n      </g>\n     </g>\n     <g id=\"text_4\">\n      <!-- 0 -->\n      <g transform=\"translate(13.5625 144.291257)scale(0.1 -0.1)\">\n       <use xlink:href=\"#DejaVuSans-48\"/>\n      </g>\n     </g>\n    </g>\n    <g id=\"ytick_2\">\n     <g id=\"line2d_9\">\n      <path clip-path=\"url(#p9800f995fb)\" d=\"M 26.925 100.29683 \nL 148.229348 100.29683 \n\" style=\"fill:none;stroke:#b0b0b0;stroke-linecap:square;stroke-width:0.8;\"/>\n     </g>\n     <g id=\"line2d_10\">\n      <g>\n       <use style=\"stroke:#000000;stroke-width:0.8;\" x=\"26.925\" xlink:href=\"#mcb3548de39\" y=\"100.29683\"/>\n      </g>\n     </g>\n     <g id=\"text_5\">\n      <!-- 20 -->\n      <g transform=\"translate(7.2 104.096048)scale(0.1 -0.1)\">\n       <use xlink:href=\"#DejaVuSans-50\"/>\n       <use x=\"63.623047\" xlink:href=\"#DejaVuSans-48\"/>\n      </g>\n     </g>\n    </g>\n    <g id=\"ytick_3\">\n     <g id=\"line2d_11\">\n      <path clip-path=\"url(#p9800f995fb)\" d=\"M 26.925 60.101621 \nL 148.229348 60.101621 \n\" style=\"fill:none;stroke:#b0b0b0;stroke-linecap:square;stroke-width:0.8;\"/>\n     </g>\n     <g id=\"line2d_12\">\n      <g>\n       <use style=\"stroke:#000000;stroke-width:0.8;\" x=\"26.925\" xlink:href=\"#mcb3548de39\" y=\"60.101621\"/>\n      </g>\n     </g>\n     <g id=\"text_6\">\n      <!-- 40 -->\n      <defs>\n       <path d=\"M 37.796875 64.3125 \nL 12.890625 25.390625 \nL 37.796875 25.390625 \nz\nM 35.203125 72.90625 \nL 47.609375 72.90625 \nL 47.609375 25.390625 \nL 58.015625 25.390625 \nL 58.015625 17.1875 \nL 47.609375 17.1875 \nL 47.609375 0 \nL 37.796875 0 \nL 37.796875 17.1875 \nL 4.890625 17.1875 \nL 4.890625 26.703125 \nz\n\" id=\"DejaVuSans-52\"/>\n      </defs>\n      <g transform=\"translate(7.2 63.90084)scale(0.1 -0.1)\">\n       <use xlink:href=\"#DejaVuSans-52\"/>\n       <use x=\"63.623047\" xlink:href=\"#DejaVuSans-48\"/>\n      </g>\n     </g>\n    </g>\n   </g>\n   <g id=\"patch_13\">\n    <path d=\"M 26.925 140.492038 \nL 26.925 22.318125 \n\" style=\"fill:none;stroke:#000000;stroke-linecap:square;stroke-linejoin:miter;stroke-width:0.8;\"/>\n   </g>\n   <g id=\"patch_14\">\n    <path d=\"M 148.229348 140.492038 \nL 148.229348 22.318125 \n\" style=\"fill:none;stroke:#000000;stroke-linecap:square;stroke-linejoin:miter;stroke-width:0.8;\"/>\n   </g>\n   <g id=\"patch_15\">\n    <path d=\"M 26.925 140.492038 \nL 148.229348 140.492038 \n\" style=\"fill:none;stroke:#000000;stroke-linecap:square;stroke-linejoin:miter;stroke-width:0.8;\"/>\n   </g>\n   <g id=\"patch_16\">\n    <path d=\"M 26.925 22.318125 \nL 148.229348 22.318125 \n\" style=\"fill:none;stroke:#000000;stroke-linecap:square;stroke-linejoin:miter;stroke-width:0.8;\"/>\n   </g>\n   <g id=\"text_7\">\n    <!-- atemp -->\n    <defs>\n     <path d=\"M 34.28125 27.484375 \nQ 23.390625 27.484375 19.1875 25 \nQ 14.984375 22.515625 14.984375 16.5 \nQ 14.984375 11.71875 18.140625 8.90625 \nQ 21.296875 6.109375 26.703125 6.109375 \nQ 34.1875 6.109375 38.703125 11.40625 \nQ 43.21875 16.703125 43.21875 25.484375 \nL 43.21875 27.484375 \nz\nM 52.203125 31.203125 \nL 52.203125 0 \nL 43.21875 0 \nL 43.21875 8.296875 \nQ 40.140625 3.328125 35.546875 0.953125 \nQ 30.953125 -1.421875 24.3125 -1.421875 \nQ 15.921875 -1.421875 10.953125 3.296875 \nQ 6 8.015625 6 15.921875 \nQ 6 25.140625 12.171875 29.828125 \nQ 18.359375 34.515625 30.609375 34.515625 \nL 43.21875 34.515625 \nL 43.21875 35.40625 \nQ 43.21875 41.609375 39.140625 45 \nQ 35.0625 48.390625 27.6875 48.390625 \nQ 23 48.390625 18.546875 47.265625 \nQ 14.109375 46.140625 10.015625 43.890625 \nL 10.015625 52.203125 \nQ 14.9375 54.109375 19.578125 55.046875 \nQ 24.21875 56 28.609375 56 \nQ 40.484375 56 46.34375 49.84375 \nQ 52.203125 43.703125 52.203125 31.203125 \nz\n\" id=\"DejaVuSans-97\"/>\n     <path d=\"M 18.3125 70.21875 \nL 18.3125 54.6875 \nL 36.8125 54.6875 \nL 36.8125 47.703125 \nL 18.3125 47.703125 \nL 18.3125 18.015625 \nQ 18.3125 11.328125 20.140625 9.421875 \nQ 21.96875 7.515625 27.59375 7.515625 \nL 36.8125 7.515625 \nL 36.8125 0 \nL 27.59375 0 \nQ 17.1875 0 13.234375 3.875 \nQ 9.28125 7.765625 9.28125 18.015625 \nL 9.28125 47.703125 \nL 2.6875 47.703125 \nL 2.6875 54.6875 \nL 9.28125 54.6875 \nL 9.28125 70.21875 \nz\n\" id=\"DejaVuSans-116\"/>\n     <path d=\"M 56.203125 29.59375 \nL 56.203125 25.203125 \nL 14.890625 25.203125 \nQ 15.484375 15.921875 20.484375 11.0625 \nQ 25.484375 6.203125 34.421875 6.203125 \nQ 39.59375 6.203125 44.453125 7.46875 \nQ 49.3125 8.734375 54.109375 11.28125 \nL 54.109375 2.78125 \nQ 49.265625 0.734375 44.1875 -0.34375 \nQ 39.109375 -1.421875 33.890625 -1.421875 \nQ 20.796875 -1.421875 13.15625 6.1875 \nQ 5.515625 13.8125 5.515625 26.8125 \nQ 5.515625 40.234375 12.765625 48.109375 \nQ 20.015625 56 32.328125 56 \nQ 43.359375 56 49.78125 48.890625 \nQ 56.203125 41.796875 56.203125 29.59375 \nz\nM 47.21875 32.234375 \nQ 47.125 39.59375 43.09375 43.984375 \nQ 39.0625 48.390625 32.421875 48.390625 \nQ 24.90625 48.390625 20.390625 44.140625 \nQ 15.875 39.890625 15.1875 32.171875 \nz\n\" id=\"DejaVuSans-101\"/>\n     <path d=\"M 52 44.1875 \nQ 55.375 50.25 60.0625 53.125 \nQ 64.75 56 71.09375 56 \nQ 79.640625 56 84.28125 50.015625 \nQ 88.921875 44.046875 88.921875 33.015625 \nL 88.921875 0 \nL 79.890625 0 \nL 79.890625 32.71875 \nQ 79.890625 40.578125 77.09375 44.375 \nQ 74.3125 48.1875 68.609375 48.1875 \nQ 61.625 48.1875 57.5625 43.546875 \nQ 53.515625 38.921875 53.515625 30.90625 \nL 53.515625 0 \nL 44.484375 0 \nL 44.484375 32.71875 \nQ 44.484375 40.625 41.703125 44.40625 \nQ 38.921875 48.1875 33.109375 48.1875 \nQ 26.21875 48.1875 22.15625 43.53125 \nQ 18.109375 38.875 18.109375 30.90625 \nL 18.109375 0 \nL 9.078125 0 \nL 9.078125 54.6875 \nL 18.109375 54.6875 \nL 18.109375 46.1875 \nQ 21.1875 51.21875 25.484375 53.609375 \nQ 29.78125 56 35.6875 56 \nQ 41.65625 56 45.828125 52.96875 \nQ 50 49.953125 52 44.1875 \nz\n\" id=\"DejaVuSans-109\"/>\n     <path d=\"M 18.109375 8.203125 \nL 18.109375 -20.796875 \nL 9.078125 -20.796875 \nL 9.078125 54.6875 \nL 18.109375 54.6875 \nL 18.109375 46.390625 \nQ 20.953125 51.265625 25.265625 53.625 \nQ 29.59375 56 35.59375 56 \nQ 45.5625 56 51.78125 48.09375 \nQ 58.015625 40.1875 58.015625 27.296875 \nQ 58.015625 14.40625 51.78125 6.484375 \nQ 45.5625 -1.421875 35.59375 -1.421875 \nQ 29.59375 -1.421875 25.265625 0.953125 \nQ 20.953125 3.328125 18.109375 8.203125 \nz\nM 48.6875 27.296875 \nQ 48.6875 37.203125 44.609375 42.84375 \nQ 40.53125 48.484375 33.40625 48.484375 \nQ 26.265625 48.484375 22.1875 42.84375 \nQ 18.109375 37.203125 18.109375 27.296875 \nQ 18.109375 17.390625 22.1875 11.75 \nQ 26.265625 6.109375 33.40625 6.109375 \nQ 40.53125 6.109375 44.609375 11.75 \nQ 48.6875 17.390625 48.6875 27.296875 \nz\n\" id=\"DejaVuSans-112\"/>\n    </defs>\n    <g transform=\"translate(68.202799 16.318125)scale(0.12 -0.12)\">\n     <use xlink:href=\"#DejaVuSans-97\"/>\n     <use x=\"61.279297\" xlink:href=\"#DejaVuSans-116\"/>\n     <use x=\"100.488281\" xlink:href=\"#DejaVuSans-101\"/>\n     <use x=\"162.011719\" xlink:href=\"#DejaVuSans-109\"/>\n     <use x=\"259.423828\" xlink:href=\"#DejaVuSans-112\"/>\n    </g>\n   </g>\n  </g>\n  <g id=\"axes_2\">\n   <g id=\"patch_17\">\n    <path d=\"M 184.620652 140.492038 \nL 305.925 140.492038 \nL 305.925 22.318125 \nL 184.620652 22.318125 \nz\n\" style=\"fill:#ffffff;\"/>\n   </g>\n   <g id=\"patch_18\">\n    <path clip-path=\"url(#p9dfe8e9ea0)\" d=\"M 190.134486 140.492038 \nL 201.162154 140.492038 \nL 201.162154 98.562919 \nL 190.134486 98.562919 \nz\n\" style=\"fill:#1f77b4;\"/>\n   </g>\n   <g id=\"patch_19\">\n    <path clip-path=\"url(#p9dfe8e9ea0)\" d=\"M 201.162154 140.492038 \nL 212.189822 140.492038 \nL 212.189822 109.596897 \nL 201.162154 109.596897 \nz\n\" style=\"fill:#1f77b4;\"/>\n   </g>\n   <g id=\"patch_20\">\n    <path clip-path=\"url(#p9dfe8e9ea0)\" d=\"M 212.189822 140.492038 \nL 223.21749 140.492038 \nL 223.21749 47.806616 \nL 212.189822 47.806616 \nz\n\" style=\"fill:#1f77b4;\"/>\n   </g>\n   <g id=\"patch_21\">\n    <path clip-path=\"url(#p9dfe8e9ea0)\" d=\"M 223.21749 140.492038 \nL 234.245158 140.492038 \nL 234.245158 87.52894 \nL 223.21749 87.52894 \nz\n\" style=\"fill:#1f77b4;\"/>\n   </g>\n   <g id=\"patch_22\">\n    <path clip-path=\"url(#p9dfe8e9ea0)\" d=\"M 234.245158 140.492038 \nL 245.272826 140.492038 \nL 245.272826 27.945454 \nL 234.245158 27.945454 \nz\n\" style=\"fill:#1f77b4;\"/>\n   </g>\n   <g id=\"patch_23\">\n    <path clip-path=\"url(#p9dfe8e9ea0)\" d=\"M 245.272826 140.492038 \nL 256.300494 140.492038 \nL 256.300494 32.359046 \nL 245.272826 32.359046 \nz\n\" style=\"fill:#1f77b4;\"/>\n   </g>\n   <g id=\"patch_24\">\n    <path clip-path=\"url(#p9dfe8e9ea0)\" d=\"M 256.300494 140.492038 \nL 267.328162 140.492038 \nL 267.328162 74.288165 \nL 256.300494 74.288165 \nz\n\" style=\"fill:#1f77b4;\"/>\n   </g>\n   <g id=\"patch_25\">\n    <path clip-path=\"url(#p9dfe8e9ea0)\" d=\"M 267.328162 140.492038 \nL 278.35583 140.492038 \nL 278.35583 65.460982 \nL 267.328162 65.460982 \nz\n\" style=\"fill:#1f77b4;\"/>\n   </g>\n   <g id=\"patch_26\">\n    <path clip-path=\"url(#p9dfe8e9ea0)\" d=\"M 278.35583 140.492038 \nL 289.383498 140.492038 \nL 289.383498 100.769714 \nL 278.35583 100.769714 \nz\n\" style=\"fill:#1f77b4;\"/>\n   </g>\n   <g id=\"patch_27\">\n    <path clip-path=\"url(#p9dfe8e9ea0)\" d=\"M 289.383498 140.492038 \nL 300.411166 140.492038 \nL 300.411166 98.562919 \nL 289.383498 98.562919 \nz\n\" style=\"fill:#1f77b4;\"/>\n   </g>\n   <g id=\"matplotlib.axis_3\">\n    <g id=\"xtick_4\">\n     <g id=\"line2d_13\">\n      <path clip-path=\"url(#p9dfe8e9ea0)\" d=\"M 192.998816 140.492038 \nL 192.998816 22.318125 \n\" style=\"fill:none;stroke:#b0b0b0;stroke-linecap:square;stroke-width:0.8;\"/>\n     </g>\n     <g id=\"line2d_14\">\n      <g>\n       <use style=\"stroke:#000000;stroke-width:0.8;\" x=\"192.998816\" xlink:href=\"#m59fef38dd1\" y=\"140.492038\"/>\n      </g>\n     </g>\n     <g id=\"text_8\">\n      <!-- 0.25 -->\n      <g transform=\"translate(181.866003 155.090476)scale(0.1 -0.1)\">\n       <use xlink:href=\"#DejaVuSans-48\"/>\n       <use x=\"63.623047\" xlink:href=\"#DejaVuSans-46\"/>\n       <use x=\"95.410156\" xlink:href=\"#DejaVuSans-50\"/>\n       <use x=\"159.033203\" xlink:href=\"#DejaVuSans-53\"/>\n      </g>\n     </g>\n    </g>\n    <g id=\"xtick_5\">\n     <g id=\"line2d_15\">\n      <path clip-path=\"url(#p9dfe8e9ea0)\" d=\"M 228.802932 140.492038 \nL 228.802932 22.318125 \n\" style=\"fill:none;stroke:#b0b0b0;stroke-linecap:square;stroke-width:0.8;\"/>\n     </g>\n     <g id=\"line2d_16\">\n      <g>\n       <use style=\"stroke:#000000;stroke-width:0.8;\" x=\"228.802932\" xlink:href=\"#m59fef38dd1\" y=\"140.492038\"/>\n      </g>\n     </g>\n     <g id=\"text_9\">\n      <!-- 0.50 -->\n      <g transform=\"translate(217.67012 155.090476)scale(0.1 -0.1)\">\n       <use xlink:href=\"#DejaVuSans-48\"/>\n       <use x=\"63.623047\" xlink:href=\"#DejaVuSans-46\"/>\n       <use x=\"95.410156\" xlink:href=\"#DejaVuSans-53\"/>\n       <use x=\"159.033203\" xlink:href=\"#DejaVuSans-48\"/>\n      </g>\n     </g>\n    </g>\n    <g id=\"xtick_6\">\n     <g id=\"line2d_17\">\n      <path clip-path=\"url(#p9dfe8e9ea0)\" d=\"M 264.607049 140.492038 \nL 264.607049 22.318125 \n\" style=\"fill:none;stroke:#b0b0b0;stroke-linecap:square;stroke-width:0.8;\"/>\n     </g>\n     <g id=\"line2d_18\">\n      <g>\n       <use style=\"stroke:#000000;stroke-width:0.8;\" x=\"264.607049\" xlink:href=\"#m59fef38dd1\" y=\"140.492038\"/>\n      </g>\n     </g>\n     <g id=\"text_10\">\n      <!-- 0.75 -->\n      <g transform=\"translate(253.474237 155.090476)scale(0.1 -0.1)\">\n       <use xlink:href=\"#DejaVuSans-48\"/>\n       <use x=\"63.623047\" xlink:href=\"#DejaVuSans-46\"/>\n       <use x=\"95.410156\" xlink:href=\"#DejaVuSans-55\"/>\n       <use x=\"159.033203\" xlink:href=\"#DejaVuSans-53\"/>\n      </g>\n     </g>\n    </g>\n    <g id=\"xtick_7\">\n     <g id=\"line2d_19\">\n      <path clip-path=\"url(#p9dfe8e9ea0)\" d=\"M 300.411166 140.492038 \nL 300.411166 22.318125 \n\" style=\"fill:none;stroke:#b0b0b0;stroke-linecap:square;stroke-width:0.8;\"/>\n     </g>\n     <g id=\"line2d_20\">\n      <g>\n       <use style=\"stroke:#000000;stroke-width:0.8;\" x=\"300.411166\" xlink:href=\"#m59fef38dd1\" y=\"140.492038\"/>\n      </g>\n     </g>\n     <g id=\"text_11\">\n      <!-- 1.00 -->\n      <defs>\n       <path d=\"M 12.40625 8.296875 \nL 28.515625 8.296875 \nL 28.515625 63.921875 \nL 10.984375 60.40625 \nL 10.984375 69.390625 \nL 28.421875 72.90625 \nL 38.28125 72.90625 \nL 38.28125 8.296875 \nL 54.390625 8.296875 \nL 54.390625 0 \nL 12.40625 0 \nz\n\" id=\"DejaVuSans-49\"/>\n      </defs>\n      <g transform=\"translate(289.278354 155.090476)scale(0.1 -0.1)\">\n       <use xlink:href=\"#DejaVuSans-49\"/>\n       <use x=\"63.623047\" xlink:href=\"#DejaVuSans-46\"/>\n       <use x=\"95.410156\" xlink:href=\"#DejaVuSans-48\"/>\n       <use x=\"159.033203\" xlink:href=\"#DejaVuSans-48\"/>\n      </g>\n     </g>\n    </g>\n   </g>\n   <g id=\"matplotlib.axis_4\">\n    <g id=\"ytick_4\">\n     <g id=\"line2d_21\">\n      <path clip-path=\"url(#p9dfe8e9ea0)\" d=\"M 184.620652 140.492038 \nL 305.925 140.492038 \n\" style=\"fill:none;stroke:#b0b0b0;stroke-linecap:square;stroke-width:0.8;\"/>\n     </g>\n     <g id=\"line2d_22\">\n      <g>\n       <use style=\"stroke:#000000;stroke-width:0.8;\" x=\"184.620652\" xlink:href=\"#mcb3548de39\" y=\"140.492038\"/>\n      </g>\n     </g>\n     <g id=\"text_12\">\n      <!-- 0 -->\n      <g transform=\"translate(171.258152 144.291257)scale(0.1 -0.1)\">\n       <use xlink:href=\"#DejaVuSans-48\"/>\n      </g>\n     </g>\n    </g>\n    <g id=\"ytick_5\">\n     <g id=\"line2d_23\">\n      <path clip-path=\"url(#p9dfe8e9ea0)\" d=\"M 184.620652 96.356123 \nL 305.925 96.356123 \n\" style=\"fill:none;stroke:#b0b0b0;stroke-linecap:square;stroke-width:0.8;\"/>\n     </g>\n     <g id=\"line2d_24\">\n      <g>\n       <use style=\"stroke:#000000;stroke-width:0.8;\" x=\"184.620652\" xlink:href=\"#mcb3548de39\" y=\"96.356123\"/>\n      </g>\n     </g>\n     <g id=\"text_13\">\n      <!-- 20 -->\n      <g transform=\"translate(164.895652 100.155342)scale(0.1 -0.1)\">\n       <use xlink:href=\"#DejaVuSans-50\"/>\n       <use x=\"63.623047\" xlink:href=\"#DejaVuSans-48\"/>\n      </g>\n     </g>\n    </g>\n    <g id=\"ytick_6\">\n     <g id=\"line2d_25\">\n      <path clip-path=\"url(#p9dfe8e9ea0)\" d=\"M 184.620652 52.220208 \nL 305.925 52.220208 \n\" style=\"fill:none;stroke:#b0b0b0;stroke-linecap:square;stroke-width:0.8;\"/>\n     </g>\n     <g id=\"line2d_26\">\n      <g>\n       <use style=\"stroke:#000000;stroke-width:0.8;\" x=\"184.620652\" xlink:href=\"#mcb3548de39\" y=\"52.220208\"/>\n      </g>\n     </g>\n     <g id=\"text_14\">\n      <!-- 40 -->\n      <g transform=\"translate(164.895652 56.019426)scale(0.1 -0.1)\">\n       <use xlink:href=\"#DejaVuSans-52\"/>\n       <use x=\"63.623047\" xlink:href=\"#DejaVuSans-48\"/>\n      </g>\n     </g>\n    </g>\n   </g>\n   <g id=\"patch_28\">\n    <path d=\"M 184.620652 140.492038 \nL 184.620652 22.318125 \n\" style=\"fill:none;stroke:#000000;stroke-linecap:square;stroke-linejoin:miter;stroke-width:0.8;\"/>\n   </g>\n   <g id=\"patch_29\">\n    <path d=\"M 305.925 140.492038 \nL 305.925 22.318125 \n\" style=\"fill:none;stroke:#000000;stroke-linecap:square;stroke-linejoin:miter;stroke-width:0.8;\"/>\n   </g>\n   <g id=\"patch_30\">\n    <path d=\"M 184.620652 140.492038 \nL 305.925 140.492038 \n\" style=\"fill:none;stroke:#000000;stroke-linecap:square;stroke-linejoin:miter;stroke-width:0.8;\"/>\n   </g>\n   <g id=\"patch_31\">\n    <path d=\"M 184.620652 22.318125 \nL 305.925 22.318125 \n\" style=\"fill:none;stroke:#000000;stroke-linecap:square;stroke-linejoin:miter;stroke-width:0.8;\"/>\n   </g>\n   <g id=\"text_15\">\n    <!-- hum -->\n    <defs>\n     <path d=\"M 54.890625 33.015625 \nL 54.890625 0 \nL 45.90625 0 \nL 45.90625 32.71875 \nQ 45.90625 40.484375 42.875 44.328125 \nQ 39.84375 48.1875 33.796875 48.1875 \nQ 26.515625 48.1875 22.3125 43.546875 \nQ 18.109375 38.921875 18.109375 30.90625 \nL 18.109375 0 \nL 9.078125 0 \nL 9.078125 75.984375 \nL 18.109375 75.984375 \nL 18.109375 46.1875 \nQ 21.34375 51.125 25.703125 53.5625 \nQ 30.078125 56 35.796875 56 \nQ 45.21875 56 50.046875 50.171875 \nQ 54.890625 44.34375 54.890625 33.015625 \nz\n\" id=\"DejaVuSans-104\"/>\n     <path d=\"M 8.5 21.578125 \nL 8.5 54.6875 \nL 17.484375 54.6875 \nL 17.484375 21.921875 \nQ 17.484375 14.15625 20.5 10.265625 \nQ 23.53125 6.390625 29.59375 6.390625 \nQ 36.859375 6.390625 41.078125 11.03125 \nQ 45.3125 15.671875 45.3125 23.6875 \nL 45.3125 54.6875 \nL 54.296875 54.6875 \nL 54.296875 0 \nL 45.3125 0 \nL 45.3125 8.40625 \nQ 42.046875 3.421875 37.71875 1 \nQ 33.40625 -1.421875 27.6875 -1.421875 \nQ 18.265625 -1.421875 13.375 4.4375 \nQ 8.5 10.296875 8.5 21.578125 \nz\nM 31.109375 56 \nz\n\" id=\"DejaVuSans-117\"/>\n    </defs>\n    <g transform=\"translate(231.823451 16.318125)scale(0.12 -0.12)\">\n     <use xlink:href=\"#DejaVuSans-104\"/>\n     <use x=\"63.378906\" xlink:href=\"#DejaVuSans-117\"/>\n     <use x=\"126.757812\" xlink:href=\"#DejaVuSans-109\"/>\n    </g>\n   </g>\n  </g>\n  <g id=\"axes_3\">\n   <g id=\"patch_32\">\n    <path d=\"M 26.925 294.118125 \nL 148.229348 294.118125 \nL 148.229348 175.944212 \nL 26.925 175.944212 \nz\n\" style=\"fill:#ffffff;\"/>\n   </g>\n   <g id=\"patch_33\">\n    <path clip-path=\"url(#paacc174e8e)\" d=\"M 32.438834 294.118125 \nL 43.466502 294.118125 \nL 43.466502 265.073845 \nL 32.438834 265.073845 \nz\n\" style=\"fill:#1f77b4;\"/>\n   </g>\n   <g id=\"patch_34\">\n    <path clip-path=\"url(#paacc174e8e)\" d=\"M 43.466502 294.118125 \nL 54.49417 294.118125 \nL 54.49417 237.844833 \nL 43.466502 237.844833 \nz\n\" style=\"fill:#1f77b4;\"/>\n   </g>\n   <g id=\"patch_35\">\n    <path clip-path=\"url(#paacc174e8e)\" d=\"M 54.49417 294.118125 \nL 65.521838 294.118125 \nL 65.521838 232.399031 \nL 54.49417 232.399031 \nz\n\" style=\"fill:#1f77b4;\"/>\n   </g>\n   <g id=\"patch_36\">\n    <path clip-path=\"url(#paacc174e8e)\" d=\"M 65.521838 294.118125 \nL 76.549506 294.118125 \nL 76.549506 221.507426 \nL 65.521838 221.507426 \nz\n\" style=\"fill:#1f77b4;\"/>\n   </g>\n   <g id=\"patch_37\">\n    <path clip-path=\"url(#paacc174e8e)\" d=\"M 76.549506 294.118125 \nL 87.577174 294.118125 \nL 87.577174 214.246356 \nL 76.549506 214.246356 \nz\n\" style=\"fill:#1f77b4;\"/>\n   </g>\n   <g id=\"patch_38\">\n    <path clip-path=\"url(#paacc174e8e)\" d=\"M 87.577174 294.118125 \nL 98.604842 294.118125 \nL 98.604842 241.475368 \nL 87.577174 241.475368 \nz\n\" style=\"fill:#1f77b4;\"/>\n   </g>\n   <g id=\"patch_39\">\n    <path clip-path=\"url(#paacc174e8e)\" d=\"M 98.604842 294.118125 \nL 109.63251 294.118125 \nL 109.63251 181.571541 \nL 98.604842 181.571541 \nz\n\" style=\"fill:#1f77b4;\"/>\n   </g>\n   <g id=\"patch_40\">\n    <path clip-path=\"url(#paacc174e8e)\" d=\"M 109.63251 294.118125 \nL 120.660178 294.118125 \nL 120.660178 245.105903 \nL 109.63251 245.105903 \nz\n\" style=\"fill:#1f77b4;\"/>\n   </g>\n   <g id=\"patch_41\">\n    <path clip-path=\"url(#paacc174e8e)\" d=\"M 120.660178 294.118125 \nL 131.687846 294.118125 \nL 131.687846 266.889113 \nL 120.660178 266.889113 \nz\n\" style=\"fill:#1f77b4;\"/>\n   </g>\n   <g id=\"patch_42\">\n    <path clip-path=\"url(#paacc174e8e)\" d=\"M 131.687846 294.118125 \nL 142.715514 294.118125 \nL 142.715514 290.48759 \nL 131.687846 290.48759 \nz\n\" style=\"fill:#1f77b4;\"/>\n   </g>\n   <g id=\"matplotlib.axis_5\">\n    <g id=\"xtick_8\">\n     <g id=\"line2d_27\">\n      <path clip-path=\"url(#paacc174e8e)\" d=\"M 51.673139 294.118125 \nL 51.673139 175.944212 \n\" style=\"fill:none;stroke:#b0b0b0;stroke-linecap:square;stroke-width:0.8;\"/>\n     </g>\n     <g id=\"line2d_28\">\n      <g>\n       <use style=\"stroke:#000000;stroke-width:0.8;\" x=\"51.673139\" xlink:href=\"#m59fef38dd1\" y=\"294.118125\"/>\n      </g>\n     </g>\n     <g id=\"text_16\">\n      <!-- 0.25 -->\n      <g transform=\"translate(40.540326 308.716563)scale(0.1 -0.1)\">\n       <use xlink:href=\"#DejaVuSans-48\"/>\n       <use x=\"63.623047\" xlink:href=\"#DejaVuSans-46\"/>\n       <use x=\"95.410156\" xlink:href=\"#DejaVuSans-50\"/>\n       <use x=\"159.033203\" xlink:href=\"#DejaVuSans-53\"/>\n      </g>\n     </g>\n    </g>\n    <g id=\"xtick_9\">\n     <g id=\"line2d_29\">\n      <path clip-path=\"url(#paacc174e8e)\" d=\"M 83.730313 294.118125 \nL 83.730313 175.944212 \n\" style=\"fill:none;stroke:#b0b0b0;stroke-linecap:square;stroke-width:0.8;\"/>\n     </g>\n     <g id=\"line2d_30\">\n      <g>\n       <use style=\"stroke:#000000;stroke-width:0.8;\" x=\"83.730313\" xlink:href=\"#m59fef38dd1\" y=\"294.118125\"/>\n      </g>\n     </g>\n     <g id=\"text_17\">\n      <!-- 0.50 -->\n      <g transform=\"translate(72.5975 308.716563)scale(0.1 -0.1)\">\n       <use xlink:href=\"#DejaVuSans-48\"/>\n       <use x=\"63.623047\" xlink:href=\"#DejaVuSans-46\"/>\n       <use x=\"95.410156\" xlink:href=\"#DejaVuSans-53\"/>\n       <use x=\"159.033203\" xlink:href=\"#DejaVuSans-48\"/>\n      </g>\n     </g>\n    </g>\n    <g id=\"xtick_10\">\n     <g id=\"line2d_31\">\n      <path clip-path=\"url(#paacc174e8e)\" d=\"M 115.787487 294.118125 \nL 115.787487 175.944212 \n\" style=\"fill:none;stroke:#b0b0b0;stroke-linecap:square;stroke-width:0.8;\"/>\n     </g>\n     <g id=\"line2d_32\">\n      <g>\n       <use style=\"stroke:#000000;stroke-width:0.8;\" x=\"115.787487\" xlink:href=\"#m59fef38dd1\" y=\"294.118125\"/>\n      </g>\n     </g>\n     <g id=\"text_18\">\n      <!-- 0.75 -->\n      <g transform=\"translate(104.654675 308.716563)scale(0.1 -0.1)\">\n       <use xlink:href=\"#DejaVuSans-48\"/>\n       <use x=\"63.623047\" xlink:href=\"#DejaVuSans-46\"/>\n       <use x=\"95.410156\" xlink:href=\"#DejaVuSans-55\"/>\n       <use x=\"159.033203\" xlink:href=\"#DejaVuSans-53\"/>\n      </g>\n     </g>\n    </g>\n    <g id=\"xtick_11\">\n     <g id=\"line2d_33\">\n      <path clip-path=\"url(#paacc174e8e)\" d=\"M 147.844662 294.118125 \nL 147.844662 175.944212 \n\" style=\"fill:none;stroke:#b0b0b0;stroke-linecap:square;stroke-width:0.8;\"/>\n     </g>\n     <g id=\"line2d_34\">\n      <g>\n       <use style=\"stroke:#000000;stroke-width:0.8;\" x=\"147.844662\" xlink:href=\"#m59fef38dd1\" y=\"294.118125\"/>\n      </g>\n     </g>\n     <g id=\"text_19\">\n      <!-- 1.00 -->\n      <g transform=\"translate(136.711849 308.716563)scale(0.1 -0.1)\">\n       <use xlink:href=\"#DejaVuSans-49\"/>\n       <use x=\"63.623047\" xlink:href=\"#DejaVuSans-46\"/>\n       <use x=\"95.410156\" xlink:href=\"#DejaVuSans-48\"/>\n       <use x=\"159.033203\" xlink:href=\"#DejaVuSans-48\"/>\n      </g>\n     </g>\n    </g>\n   </g>\n   <g id=\"matplotlib.axis_6\">\n    <g id=\"ytick_7\">\n     <g id=\"line2d_35\">\n      <path clip-path=\"url(#paacc174e8e)\" d=\"M 26.925 294.118125 \nL 148.229348 294.118125 \n\" style=\"fill:none;stroke:#b0b0b0;stroke-linecap:square;stroke-width:0.8;\"/>\n     </g>\n     <g id=\"line2d_36\">\n      <g>\n       <use style=\"stroke:#000000;stroke-width:0.8;\" x=\"26.925\" xlink:href=\"#mcb3548de39\" y=\"294.118125\"/>\n      </g>\n     </g>\n     <g id=\"text_20\">\n      <!-- 0 -->\n      <g transform=\"translate(13.5625 297.917344)scale(0.1 -0.1)\">\n       <use xlink:href=\"#DejaVuSans-48\"/>\n      </g>\n     </g>\n    </g>\n    <g id=\"ytick_8\">\n     <g id=\"line2d_37\">\n      <path clip-path=\"url(#paacc174e8e)\" d=\"M 26.925 257.812775 \nL 148.229348 257.812775 \n\" style=\"fill:none;stroke:#b0b0b0;stroke-linecap:square;stroke-width:0.8;\"/>\n     </g>\n     <g id=\"line2d_38\">\n      <g>\n       <use style=\"stroke:#000000;stroke-width:0.8;\" x=\"26.925\" xlink:href=\"#mcb3548de39\" y=\"257.812775\"/>\n      </g>\n     </g>\n     <g id=\"text_21\">\n      <!-- 20 -->\n      <g transform=\"translate(7.2 261.611994)scale(0.1 -0.1)\">\n       <use xlink:href=\"#DejaVuSans-50\"/>\n       <use x=\"63.623047\" xlink:href=\"#DejaVuSans-48\"/>\n      </g>\n     </g>\n    </g>\n    <g id=\"ytick_9\">\n     <g id=\"line2d_39\">\n      <path clip-path=\"url(#paacc174e8e)\" d=\"M 26.925 221.507426 \nL 148.229348 221.507426 \n\" style=\"fill:none;stroke:#b0b0b0;stroke-linecap:square;stroke-width:0.8;\"/>\n     </g>\n     <g id=\"line2d_40\">\n      <g>\n       <use style=\"stroke:#000000;stroke-width:0.8;\" x=\"26.925\" xlink:href=\"#mcb3548de39\" y=\"221.507426\"/>\n      </g>\n     </g>\n     <g id=\"text_22\">\n      <!-- 40 -->\n      <g transform=\"translate(7.2 225.306644)scale(0.1 -0.1)\">\n       <use xlink:href=\"#DejaVuSans-52\"/>\n       <use x=\"63.623047\" xlink:href=\"#DejaVuSans-48\"/>\n      </g>\n     </g>\n    </g>\n    <g id=\"ytick_10\">\n     <g id=\"line2d_41\">\n      <path clip-path=\"url(#paacc174e8e)\" d=\"M 26.925 185.202076 \nL 148.229348 185.202076 \n\" style=\"fill:none;stroke:#b0b0b0;stroke-linecap:square;stroke-width:0.8;\"/>\n     </g>\n     <g id=\"line2d_42\">\n      <g>\n       <use style=\"stroke:#000000;stroke-width:0.8;\" x=\"26.925\" xlink:href=\"#mcb3548de39\" y=\"185.202076\"/>\n      </g>\n     </g>\n     <g id=\"text_23\">\n      <!-- 60 -->\n      <defs>\n       <path d=\"M 33.015625 40.375 \nQ 26.375 40.375 22.484375 35.828125 \nQ 18.609375 31.296875 18.609375 23.390625 \nQ 18.609375 15.53125 22.484375 10.953125 \nQ 26.375 6.390625 33.015625 6.390625 \nQ 39.65625 6.390625 43.53125 10.953125 \nQ 47.40625 15.53125 47.40625 23.390625 \nQ 47.40625 31.296875 43.53125 35.828125 \nQ 39.65625 40.375 33.015625 40.375 \nz\nM 52.59375 71.296875 \nL 52.59375 62.3125 \nQ 48.875 64.0625 45.09375 64.984375 \nQ 41.3125 65.921875 37.59375 65.921875 \nQ 27.828125 65.921875 22.671875 59.328125 \nQ 17.53125 52.734375 16.796875 39.40625 \nQ 19.671875 43.65625 24.015625 45.921875 \nQ 28.375 48.1875 33.59375 48.1875 \nQ 44.578125 48.1875 50.953125 41.515625 \nQ 57.328125 34.859375 57.328125 23.390625 \nQ 57.328125 12.15625 50.6875 5.359375 \nQ 44.046875 -1.421875 33.015625 -1.421875 \nQ 20.359375 -1.421875 13.671875 8.265625 \nQ 6.984375 17.96875 6.984375 36.375 \nQ 6.984375 53.65625 15.1875 63.9375 \nQ 23.390625 74.21875 37.203125 74.21875 \nQ 40.921875 74.21875 44.703125 73.484375 \nQ 48.484375 72.75 52.59375 71.296875 \nz\n\" id=\"DejaVuSans-54\"/>\n      </defs>\n      <g transform=\"translate(7.2 189.001295)scale(0.1 -0.1)\">\n       <use xlink:href=\"#DejaVuSans-54\"/>\n       <use x=\"63.623047\" xlink:href=\"#DejaVuSans-48\"/>\n      </g>\n     </g>\n    </g>\n   </g>\n   <g id=\"patch_43\">\n    <path d=\"M 26.925 294.118125 \nL 26.925 175.944212 \n\" style=\"fill:none;stroke:#000000;stroke-linecap:square;stroke-linejoin:miter;stroke-width:0.8;\"/>\n   </g>\n   <g id=\"patch_44\">\n    <path d=\"M 148.229348 294.118125 \nL 148.229348 175.944212 \n\" style=\"fill:none;stroke:#000000;stroke-linecap:square;stroke-linejoin:miter;stroke-width:0.8;\"/>\n   </g>\n   <g id=\"patch_45\">\n    <path d=\"M 26.925 294.118125 \nL 148.229348 294.118125 \n\" style=\"fill:none;stroke:#000000;stroke-linecap:square;stroke-linejoin:miter;stroke-width:0.8;\"/>\n   </g>\n   <g id=\"patch_46\">\n    <path d=\"M 26.925 175.944212 \nL 148.229348 175.944212 \n\" style=\"fill:none;stroke:#000000;stroke-linecap:square;stroke-linejoin:miter;stroke-width:0.8;\"/>\n   </g>\n   <g id=\"text_24\">\n    <!-- temp -->\n    <g transform=\"translate(71.879674 169.944212)scale(0.12 -0.12)\">\n     <use xlink:href=\"#DejaVuSans-116\"/>\n     <use x=\"39.208984\" xlink:href=\"#DejaVuSans-101\"/>\n     <use x=\"100.732422\" xlink:href=\"#DejaVuSans-109\"/>\n     <use x=\"198.144531\" xlink:href=\"#DejaVuSans-112\"/>\n    </g>\n   </g>\n  </g>\n  <g id=\"axes_4\">\n   <g id=\"patch_47\">\n    <path d=\"M 184.620652 294.118125 \nL 305.925 294.118125 \nL 305.925 175.944212 \nL 184.620652 175.944212 \nz\n\" style=\"fill:#ffffff;\"/>\n   </g>\n   <g id=\"patch_48\">\n    <path clip-path=\"url(#p94d9cb5a55)\" d=\"M 190.134486 294.118125 \nL 201.162154 294.118125 \nL 201.162154 238.684733 \nL 190.134486 238.684733 \nz\n\" style=\"fill:#1f77b4;\"/>\n   </g>\n   <g id=\"patch_49\">\n    <path clip-path=\"url(#p94d9cb5a55)\" d=\"M 201.162154 294.118125 \nL 212.189822 294.118125 \nL 212.189822 198.369539 \nL 201.162154 198.369539 \nz\n\" style=\"fill:#1f77b4;\"/>\n   </g>\n   <g id=\"patch_50\">\n    <path clip-path=\"url(#p94d9cb5a55)\" d=\"M 212.189822 294.118125 \nL 223.21749 294.118125 \nL 223.21749 201.729138 \nL 212.189822 201.729138 \nz\n\" style=\"fill:#1f77b4;\"/>\n   </g>\n   <g id=\"patch_51\">\n    <path clip-path=\"url(#p94d9cb5a55)\" d=\"M 223.21749 294.118125 \nL 234.245158 294.118125 \nL 234.245158 203.408938 \nL 223.21749 203.408938 \nz\n\" style=\"fill:#1f77b4;\"/>\n   </g>\n   <g id=\"patch_52\">\n    <path clip-path=\"url(#p94d9cb5a55)\" d=\"M 234.245158 294.118125 \nL 245.272826 294.118125 \nL 245.272826 181.571541 \nL 234.245158 181.571541 \nz\n\" style=\"fill:#1f77b4;\"/>\n   </g>\n   <g id=\"patch_53\">\n    <path clip-path=\"url(#p94d9cb5a55)\" d=\"M 245.272826 294.118125 \nL 256.300494 294.118125 \nL 256.300494 278.999927 \nL 245.272826 278.999927 \nz\n\" style=\"fill:#1f77b4;\"/>\n   </g>\n   <g id=\"patch_54\">\n    <path clip-path=\"url(#p94d9cb5a55)\" d=\"M 256.300494 294.118125 \nL 267.328162 294.118125 \nL 267.328162 272.280728 \nL 256.300494 272.280728 \nz\n\" style=\"fill:#1f77b4;\"/>\n   </g>\n   <g id=\"patch_55\">\n    <path clip-path=\"url(#p94d9cb5a55)\" d=\"M 267.328162 294.118125 \nL 278.35583 294.118125 \nL 278.35583 289.078726 \nL 267.328162 289.078726 \nz\n\" style=\"fill:#1f77b4;\"/>\n   </g>\n   <g id=\"patch_56\">\n    <path clip-path=\"url(#p94d9cb5a55)\" d=\"M 278.35583 294.118125 \nL 289.383498 294.118125 \nL 289.383498 284.039326 \nL 278.35583 284.039326 \nz\n\" style=\"fill:#1f77b4;\"/>\n   </g>\n   <g id=\"patch_57\">\n    <path clip-path=\"url(#p94d9cb5a55)\" d=\"M 289.383498 294.118125 \nL 300.411166 294.118125 \nL 300.411166 289.078726 \nL 289.383498 289.078726 \nz\n\" style=\"fill:#1f77b4;\"/>\n   </g>\n   <g id=\"matplotlib.axis_7\">\n    <g id=\"xtick_12\">\n     <g id=\"line2d_43\">\n      <path clip-path=\"url(#p94d9cb5a55)\" d=\"M 190.134486 294.118125 \nL 190.134486 175.944212 \n\" style=\"fill:none;stroke:#b0b0b0;stroke-linecap:square;stroke-width:0.8;\"/>\n     </g>\n     <g id=\"line2d_44\">\n      <g>\n       <use style=\"stroke:#000000;stroke-width:0.8;\" x=\"190.134486\" xlink:href=\"#m59fef38dd1\" y=\"294.118125\"/>\n      </g>\n     </g>\n     <g id=\"text_25\">\n      <!-- 0.0 -->\n      <g transform=\"translate(182.182924 308.716563)scale(0.1 -0.1)\">\n       <use xlink:href=\"#DejaVuSans-48\"/>\n       <use x=\"63.623047\" xlink:href=\"#DejaVuSans-46\"/>\n       <use x=\"95.410156\" xlink:href=\"#DejaVuSans-48\"/>\n      </g>\n     </g>\n    </g>\n    <g id=\"xtick_13\">\n     <g id=\"line2d_45\">\n      <path clip-path=\"url(#p94d9cb5a55)\" d=\"M 226.178506 294.118125 \nL 226.178506 175.944212 \n\" style=\"fill:none;stroke:#b0b0b0;stroke-linecap:square;stroke-width:0.8;\"/>\n     </g>\n     <g id=\"line2d_46\">\n      <g>\n       <use style=\"stroke:#000000;stroke-width:0.8;\" x=\"226.178506\" xlink:href=\"#m59fef38dd1\" y=\"294.118125\"/>\n      </g>\n     </g>\n     <g id=\"text_26\">\n      <!-- 0.2 -->\n      <g transform=\"translate(218.226944 308.716563)scale(0.1 -0.1)\">\n       <use xlink:href=\"#DejaVuSans-48\"/>\n       <use x=\"63.623047\" xlink:href=\"#DejaVuSans-46\"/>\n       <use x=\"95.410156\" xlink:href=\"#DejaVuSans-50\"/>\n      </g>\n     </g>\n    </g>\n    <g id=\"xtick_14\">\n     <g id=\"line2d_47\">\n      <path clip-path=\"url(#p94d9cb5a55)\" d=\"M 262.222527 294.118125 \nL 262.222527 175.944212 \n\" style=\"fill:none;stroke:#b0b0b0;stroke-linecap:square;stroke-width:0.8;\"/>\n     </g>\n     <g id=\"line2d_48\">\n      <g>\n       <use style=\"stroke:#000000;stroke-width:0.8;\" x=\"262.222527\" xlink:href=\"#m59fef38dd1\" y=\"294.118125\"/>\n      </g>\n     </g>\n     <g id=\"text_27\">\n      <!-- 0.4 -->\n      <g transform=\"translate(254.270964 308.716563)scale(0.1 -0.1)\">\n       <use xlink:href=\"#DejaVuSans-48\"/>\n       <use x=\"63.623047\" xlink:href=\"#DejaVuSans-46\"/>\n       <use x=\"95.410156\" xlink:href=\"#DejaVuSans-52\"/>\n      </g>\n     </g>\n    </g>\n    <g id=\"xtick_15\">\n     <g id=\"line2d_49\">\n      <path clip-path=\"url(#p94d9cb5a55)\" d=\"M 298.266547 294.118125 \nL 298.266547 175.944212 \n\" style=\"fill:none;stroke:#b0b0b0;stroke-linecap:square;stroke-width:0.8;\"/>\n     </g>\n     <g id=\"line2d_50\">\n      <g>\n       <use style=\"stroke:#000000;stroke-width:0.8;\" x=\"298.266547\" xlink:href=\"#m59fef38dd1\" y=\"294.118125\"/>\n      </g>\n     </g>\n     <g id=\"text_28\">\n      <!-- 0.6 -->\n      <g transform=\"translate(290.314984 308.716563)scale(0.1 -0.1)\">\n       <use xlink:href=\"#DejaVuSans-48\"/>\n       <use x=\"63.623047\" xlink:href=\"#DejaVuSans-46\"/>\n       <use x=\"95.410156\" xlink:href=\"#DejaVuSans-54\"/>\n      </g>\n     </g>\n    </g>\n   </g>\n   <g id=\"matplotlib.axis_8\">\n    <g id=\"ytick_11\">\n     <g id=\"line2d_51\">\n      <path clip-path=\"url(#p94d9cb5a55)\" d=\"M 184.620652 294.118125 \nL 305.925 294.118125 \n\" style=\"fill:none;stroke:#b0b0b0;stroke-linecap:square;stroke-width:0.8;\"/>\n     </g>\n     <g id=\"line2d_52\">\n      <g>\n       <use style=\"stroke:#000000;stroke-width:0.8;\" x=\"184.620652\" xlink:href=\"#mcb3548de39\" y=\"294.118125\"/>\n      </g>\n     </g>\n     <g id=\"text_29\">\n      <!-- 0 -->\n      <g transform=\"translate(171.258152 297.917344)scale(0.1 -0.1)\">\n       <use xlink:href=\"#DejaVuSans-48\"/>\n      </g>\n     </g>\n    </g>\n    <g id=\"ytick_12\">\n     <g id=\"line2d_53\">\n      <path clip-path=\"url(#p94d9cb5a55)\" d=\"M 184.620652 260.52213 \nL 305.925 260.52213 \n\" style=\"fill:none;stroke:#b0b0b0;stroke-linecap:square;stroke-width:0.8;\"/>\n     </g>\n     <g id=\"line2d_54\">\n      <g>\n       <use style=\"stroke:#000000;stroke-width:0.8;\" x=\"184.620652\" xlink:href=\"#mcb3548de39\" y=\"260.52213\"/>\n      </g>\n     </g>\n     <g id=\"text_30\">\n      <!-- 20 -->\n      <g transform=\"translate(164.895652 264.321349)scale(0.1 -0.1)\">\n       <use xlink:href=\"#DejaVuSans-50\"/>\n       <use x=\"63.623047\" xlink:href=\"#DejaVuSans-48\"/>\n      </g>\n     </g>\n    </g>\n    <g id=\"ytick_13\">\n     <g id=\"line2d_55\">\n      <path clip-path=\"url(#p94d9cb5a55)\" d=\"M 184.620652 226.926135 \nL 305.925 226.926135 \n\" style=\"fill:none;stroke:#b0b0b0;stroke-linecap:square;stroke-width:0.8;\"/>\n     </g>\n     <g id=\"line2d_56\">\n      <g>\n       <use style=\"stroke:#000000;stroke-width:0.8;\" x=\"184.620652\" xlink:href=\"#mcb3548de39\" y=\"226.926135\"/>\n      </g>\n     </g>\n     <g id=\"text_31\">\n      <!-- 40 -->\n      <g transform=\"translate(164.895652 230.725353)scale(0.1 -0.1)\">\n       <use xlink:href=\"#DejaVuSans-52\"/>\n       <use x=\"63.623047\" xlink:href=\"#DejaVuSans-48\"/>\n      </g>\n     </g>\n    </g>\n    <g id=\"ytick_14\">\n     <g id=\"line2d_57\">\n      <path clip-path=\"url(#p94d9cb5a55)\" d=\"M 184.620652 193.330139 \nL 305.925 193.330139 \n\" style=\"fill:none;stroke:#b0b0b0;stroke-linecap:square;stroke-width:0.8;\"/>\n     </g>\n     <g id=\"line2d_58\">\n      <g>\n       <use style=\"stroke:#000000;stroke-width:0.8;\" x=\"184.620652\" xlink:href=\"#mcb3548de39\" y=\"193.330139\"/>\n      </g>\n     </g>\n     <g id=\"text_32\">\n      <!-- 60 -->\n      <g transform=\"translate(164.895652 197.129358)scale(0.1 -0.1)\">\n       <use xlink:href=\"#DejaVuSans-54\"/>\n       <use x=\"63.623047\" xlink:href=\"#DejaVuSans-48\"/>\n      </g>\n     </g>\n    </g>\n   </g>\n   <g id=\"patch_58\">\n    <path d=\"M 184.620652 294.118125 \nL 184.620652 175.944212 \n\" style=\"fill:none;stroke:#000000;stroke-linecap:square;stroke-linejoin:miter;stroke-width:0.8;\"/>\n   </g>\n   <g id=\"patch_59\">\n    <path d=\"M 305.925 294.118125 \nL 305.925 175.944212 \n\" style=\"fill:none;stroke:#000000;stroke-linecap:square;stroke-linejoin:miter;stroke-width:0.8;\"/>\n   </g>\n   <g id=\"patch_60\">\n    <path d=\"M 184.620652 294.118125 \nL 305.925 294.118125 \n\" style=\"fill:none;stroke:#000000;stroke-linecap:square;stroke-linejoin:miter;stroke-width:0.8;\"/>\n   </g>\n   <g id=\"patch_61\">\n    <path d=\"M 184.620652 175.944212 \nL 305.925 175.944212 \n\" style=\"fill:none;stroke:#000000;stroke-linecap:square;stroke-linejoin:miter;stroke-width:0.8;\"/>\n   </g>\n   <g id=\"text_33\">\n    <!-- windspeed -->\n    <defs>\n     <path d=\"M 4.203125 54.6875 \nL 13.1875 54.6875 \nL 24.421875 12.015625 \nL 35.59375 54.6875 \nL 46.1875 54.6875 \nL 57.421875 12.015625 \nL 68.609375 54.6875 \nL 77.59375 54.6875 \nL 63.28125 0 \nL 52.6875 0 \nL 40.921875 44.828125 \nL 29.109375 0 \nL 18.5 0 \nz\n\" id=\"DejaVuSans-119\"/>\n     <path d=\"M 9.421875 54.6875 \nL 18.40625 54.6875 \nL 18.40625 0 \nL 9.421875 0 \nz\nM 9.421875 75.984375 \nL 18.40625 75.984375 \nL 18.40625 64.59375 \nL 9.421875 64.59375 \nz\n\" id=\"DejaVuSans-105\"/>\n     <path d=\"M 54.890625 33.015625 \nL 54.890625 0 \nL 45.90625 0 \nL 45.90625 32.71875 \nQ 45.90625 40.484375 42.875 44.328125 \nQ 39.84375 48.1875 33.796875 48.1875 \nQ 26.515625 48.1875 22.3125 43.546875 \nQ 18.109375 38.921875 18.109375 30.90625 \nL 18.109375 0 \nL 9.078125 0 \nL 9.078125 54.6875 \nL 18.109375 54.6875 \nL 18.109375 46.1875 \nQ 21.34375 51.125 25.703125 53.5625 \nQ 30.078125 56 35.796875 56 \nQ 45.21875 56 50.046875 50.171875 \nQ 54.890625 44.34375 54.890625 33.015625 \nz\n\" id=\"DejaVuSans-110\"/>\n     <path d=\"M 45.40625 46.390625 \nL 45.40625 75.984375 \nL 54.390625 75.984375 \nL 54.390625 0 \nL 45.40625 0 \nL 45.40625 8.203125 \nQ 42.578125 3.328125 38.25 0.953125 \nQ 33.9375 -1.421875 27.875 -1.421875 \nQ 17.96875 -1.421875 11.734375 6.484375 \nQ 5.515625 14.40625 5.515625 27.296875 \nQ 5.515625 40.1875 11.734375 48.09375 \nQ 17.96875 56 27.875 56 \nQ 33.9375 56 38.25 53.625 \nQ 42.578125 51.265625 45.40625 46.390625 \nz\nM 14.796875 27.296875 \nQ 14.796875 17.390625 18.875 11.75 \nQ 22.953125 6.109375 30.078125 6.109375 \nQ 37.203125 6.109375 41.296875 11.75 \nQ 45.40625 17.390625 45.40625 27.296875 \nQ 45.40625 37.203125 41.296875 42.84375 \nQ 37.203125 48.484375 30.078125 48.484375 \nQ 22.953125 48.484375 18.875 42.84375 \nQ 14.796875 37.203125 14.796875 27.296875 \nz\n\" id=\"DejaVuSans-100\"/>\n     <path d=\"M 44.28125 53.078125 \nL 44.28125 44.578125 \nQ 40.484375 46.53125 36.375 47.5 \nQ 32.28125 48.484375 27.875 48.484375 \nQ 21.1875 48.484375 17.84375 46.4375 \nQ 14.5 44.390625 14.5 40.28125 \nQ 14.5 37.15625 16.890625 35.375 \nQ 19.28125 33.59375 26.515625 31.984375 \nL 29.59375 31.296875 \nQ 39.15625 29.25 43.1875 25.515625 \nQ 47.21875 21.78125 47.21875 15.09375 \nQ 47.21875 7.46875 41.1875 3.015625 \nQ 35.15625 -1.421875 24.609375 -1.421875 \nQ 20.21875 -1.421875 15.453125 -0.5625 \nQ 10.6875 0.296875 5.421875 2 \nL 5.421875 11.28125 \nQ 10.40625 8.6875 15.234375 7.390625 \nQ 20.0625 6.109375 24.8125 6.109375 \nQ 31.15625 6.109375 34.5625 8.28125 \nQ 37.984375 10.453125 37.984375 14.40625 \nQ 37.984375 18.0625 35.515625 20.015625 \nQ 33.0625 21.96875 24.703125 23.78125 \nL 21.578125 24.515625 \nQ 13.234375 26.265625 9.515625 29.90625 \nQ 5.8125 33.546875 5.8125 39.890625 \nQ 5.8125 47.609375 11.28125 51.796875 \nQ 16.75 56 26.8125 56 \nQ 31.78125 56 36.171875 55.265625 \nQ 40.578125 54.546875 44.28125 53.078125 \nz\n\" id=\"DejaVuSans-115\"/>\n    </defs>\n    <g transform=\"translate(212.960014 169.944212)scale(0.12 -0.12)\">\n     <use xlink:href=\"#DejaVuSans-119\"/>\n     <use x=\"81.787109\" xlink:href=\"#DejaVuSans-105\"/>\n     <use x=\"109.570312\" xlink:href=\"#DejaVuSans-110\"/>\n     <use x=\"172.949219\" xlink:href=\"#DejaVuSans-100\"/>\n     <use x=\"236.425781\" xlink:href=\"#DejaVuSans-115\"/>\n     <use x=\"288.525391\" xlink:href=\"#DejaVuSans-112\"/>\n     <use x=\"352.001953\" xlink:href=\"#DejaVuSans-101\"/>\n     <use x=\"413.525391\" xlink:href=\"#DejaVuSans-101\"/>\n     <use x=\"475.048828\" xlink:href=\"#DejaVuSans-100\"/>\n    </g>\n   </g>\n  </g>\n </g>\n <defs>\n  <clipPath id=\"p9800f995fb\">\n   <rect height=\"118.173913\" width=\"121.304348\" x=\"26.925\" y=\"22.318125\"/>\n  </clipPath>\n  <clipPath id=\"p9dfe8e9ea0\">\n   <rect height=\"118.173913\" width=\"121.304348\" x=\"184.620652\" y=\"22.318125\"/>\n  </clipPath>\n  <clipPath id=\"paacc174e8e\">\n   <rect height=\"118.173913\" width=\"121.304348\" x=\"26.925\" y=\"175.944212\"/>\n  </clipPath>\n  <clipPath id=\"p94d9cb5a55\">\n   <rect height=\"118.173913\" width=\"121.304348\" x=\"184.620652\" y=\"175.944212\"/>\n  </clipPath>\n </defs>\n</svg>\n",
      "image/png": "[encoded data removed]"
     },
     "metadata": {
      "needs_background": "light"
     }
    }
   ],
   "source": [
    "### WRITE CODE TO OBTAIN AND DISPLAY HISTOGRAMS ###\n",
    "%matplotlib inline\n",
    "\n",
    "training[['temp', 'atemp', 'hum', 'windspeed']].hist(figsize = (5,5))"
   ]
  },
  {
   "cell_type": "markdown",
   "metadata": {},
   "source": [
    "##### Q1. What can you infer from the histograms? <br/>\n",
    "\n",
    "Atemp and hum appear to be fairly normally distributed, temp has a triangular left skewed distribution, and windspeed has a beta distribution with a right skew. The location of our bikesharing dataset appears to be in a warm and relatively humid, area. Atemp, hum, and temp are spread between 0 and 1, while windspeed is between 0 and 0.6."
   ]
  },
  {
   "cell_type": "markdown",
   "metadata": {},
   "source": [
    "Compute the correlation matrix to get an understanding of the correlation between cnt and the other features.<br/>\n",
    "\n"
   ]
  },
  {
   "cell_type": "code",
   "execution_count": 5,
   "metadata": {},
   "outputs": [
    {
     "output_type": "execute_result",
     "data": {
      "text/plain": [
       "<pandas.io.formats.style.Styler at 0x7fb54c5b0a30>"
      ],
      "text/html": "<style  type=\"text/css\" >\n    #T_3c3f533a_27ab_11eb_a87a_a683e74e6339row0_col0 {\n            background-color:  #006837;\n            color:  #f1f1f1;\n        }    #T_3c3f533a_27ab_11eb_a87a_a683e74e6339row0_col1 {\n            background-color:  #66bd63;\n            color:  #000000;\n        }    #T_3c3f533a_27ab_11eb_a87a_a683e74e6339row0_col2 {\n            background-color:  #f8864f;\n            color:  #000000;\n        }    #T_3c3f533a_27ab_11eb_a87a_a683e74e6339row0_col3 {\n            background-color:  #e0422f;\n            color:  #f1f1f1;\n        }    #T_3c3f533a_27ab_11eb_a87a_a683e74e6339row0_col4 {\n            background-color:  #bb1526;\n            color:  #f1f1f1;\n        }    #T_3c3f533a_27ab_11eb_a87a_a683e74e6339row0_col5 {\n            background-color:  #f88c51;\n            color:  #000000;\n        }    #T_3c3f533a_27ab_11eb_a87a_a683e74e6339row0_col6 {\n            background-color:  #f67f4b;\n            color:  #000000;\n        }    #T_3c3f533a_27ab_11eb_a87a_a683e74e6339row0_col7 {\n            background-color:  #fff1a8;\n            color:  #000000;\n        }    #T_3c3f533a_27ab_11eb_a87a_a683e74e6339row0_col8 {\n            background-color:  #fff7b2;\n            color:  #000000;\n        }    #T_3c3f533a_27ab_11eb_a87a_a683e74e6339row0_col9 {\n            background-color:  #fed884;\n            color:  #000000;\n        }    #T_3c3f533a_27ab_11eb_a87a_a683e74e6339row0_col10 {\n            background-color:  #d42d27;\n            color:  #f1f1f1;\n        }    #T_3c3f533a_27ab_11eb_a87a_a683e74e6339row0_col11 {\n            background-color:  #fee491;\n            color:  #000000;\n        }    #T_3c3f533a_27ab_11eb_a87a_a683e74e6339row1_col0 {\n            background-color:  #5ab760;\n            color:  #000000;\n        }    #T_3c3f533a_27ab_11eb_a87a_a683e74e6339row1_col1 {\n            background-color:  #006837;\n            color:  #f1f1f1;\n        }    #T_3c3f533a_27ab_11eb_a87a_a683e74e6339row1_col2 {\n            background-color:  #fb9d59;\n            color:  #000000;\n        }    #T_3c3f533a_27ab_11eb_a87a_a683e74e6339row1_col3 {\n            background-color:  #ea5739;\n            color:  #000000;\n        }    #T_3c3f533a_27ab_11eb_a87a_a683e74e6339row1_col4 {\n            background-color:  #d22b27;\n            color:  #f1f1f1;\n        }    #T_3c3f533a_27ab_11eb_a87a_a683e74e6339row1_col5 {\n            background-color:  #f57748;\n            color:  #000000;\n        }    #T_3c3f533a_27ab_11eb_a87a_a683e74e6339row1_col6 {\n            background-color:  #f67f4b;\n            color:  #000000;\n        }    #T_3c3f533a_27ab_11eb_a87a_a683e74e6339row1_col7 {\n            background-color:  #fdbf6f;\n            color:  #000000;\n        }    #T_3c3f533a_27ab_11eb_a87a_a683e74e6339row1_col8 {\n            background-color:  #fdc776;\n            color:  #000000;\n        }    #T_3c3f533a_27ab_11eb_a87a_a683e74e6339row1_col9 {\n            background-color:  #feca79;\n            color:  #000000;\n        }    #T_3c3f533a_27ab_11eb_a87a_a683e74e6339row1_col10 {\n            background-color:  #ee613e;\n            color:  #000000;\n        }    #T_3c3f533a_27ab_11eb_a87a_a683e74e6339row1_col11 {\n            background-color:  #fec877;\n            color:  #000000;\n        }    #T_3c3f533a_27ab_11eb_a87a_a683e74e6339row2_col0 {\n            background-color:  #c01a27;\n            color:  #f1f1f1;\n        }    #T_3c3f533a_27ab_11eb_a87a_a683e74e6339row2_col1 {\n            background-color:  #ab0626;\n            color:  #f1f1f1;\n        }    #T_3c3f533a_27ab_11eb_a87a_a683e74e6339row2_col2 {\n            background-color:  #006837;\n            color:  #f1f1f1;\n        }    #T_3c3f533a_27ab_11eb_a87a_a683e74e6339row2_col3 {\n            background-color:  #fa9656;\n            color:  #000000;\n        }    #T_3c3f533a_27ab_11eb_a87a_a683e74e6339row2_col4 {\n            background-color:  #db382b;\n            color:  #f1f1f1;\n        }    #T_3c3f533a_27ab_11eb_a87a_a683e74e6339row2_col5 {\n            background-color:  #d93429;\n            color:  #f1f1f1;\n        }    #T_3c3f533a_27ab_11eb_a87a_a683e74e6339row2_col6 {\n            background-color:  #b91326;\n            color:  #f1f1f1;\n        }    #T_3c3f533a_27ab_11eb_a87a_a683e74e6339row2_col7 {\n            background-color:  #e14430;\n            color:  #f1f1f1;\n        }    #T_3c3f533a_27ab_11eb_a87a_a683e74e6339row2_col8 {\n            background-color:  #e54e35;\n            color:  #000000;\n        }    #T_3c3f533a_27ab_11eb_a87a_a683e74e6339row2_col9 {\n            background-color:  #a50026;\n            color:  #f1f1f1;\n        }    #T_3c3f533a_27ab_11eb_a87a_a683e74e6339row2_col10 {\n            background-color:  #fdb768;\n            color:  #000000;\n        }    #T_3c3f533a_27ab_11eb_a87a_a683e74e6339row2_col11 {\n            background-color:  #f1f9ac;\n            color:  #000000;\n        }    #T_3c3f533a_27ab_11eb_a87a_a683e74e6339row3_col0 {\n            background-color:  #bd1726;\n            color:  #f1f1f1;\n        }    #T_3c3f533a_27ab_11eb_a87a_a683e74e6339row3_col1 {\n            background-color:  #a50026;\n            color:  #f1f1f1;\n        }    #T_3c3f533a_27ab_11eb_a87a_a683e74e6339row3_col2 {\n            background-color:  #fdc776;\n            color:  #000000;\n        }    #T_3c3f533a_27ab_11eb_a87a_a683e74e6339row3_col3 {\n            background-color:  #006837;\n            color:  #f1f1f1;\n        }    #T_3c3f533a_27ab_11eb_a87a_a683e74e6339row3_col4 {\n            background-color:  #b30d26;\n            color:  #f1f1f1;\n        }    #T_3c3f533a_27ab_11eb_a87a_a683e74e6339row3_col5 {\n            background-color:  #a50026;\n            color:  #f1f1f1;\n        }    #T_3c3f533a_27ab_11eb_a87a_a683e74e6339row3_col6 {\n            background-color:  #d22b27;\n            color:  #f1f1f1;\n        }    #T_3c3f533a_27ab_11eb_a87a_a683e74e6339row3_col7 {\n            background-color:  #d93429;\n            color:  #f1f1f1;\n        }    #T_3c3f533a_27ab_11eb_a87a_a683e74e6339row3_col8 {\n            background-color:  #e0422f;\n            color:  #f1f1f1;\n        }    #T_3c3f533a_27ab_11eb_a87a_a683e74e6339row3_col9 {\n            background-color:  #f67c4a;\n            color:  #000000;\n        }    #T_3c3f533a_27ab_11eb_a87a_a683e74e6339row3_col10 {\n            background-color:  #e54e35;\n            color:  #000000;\n        }    #T_3c3f533a_27ab_11eb_a87a_a683e74e6339row3_col11 {\n            background-color:  #f99153;\n            color:  #000000;\n        }    #T_3c3f533a_27ab_11eb_a87a_a683e74e6339row4_col0 {\n            background-color:  #c01a27;\n            color:  #f1f1f1;\n        }    #T_3c3f533a_27ab_11eb_a87a_a683e74e6339row4_col1 {\n            background-color:  #ab0626;\n            color:  #f1f1f1;\n        }    #T_3c3f533a_27ab_11eb_a87a_a683e74e6339row4_col2 {\n            background-color:  #fcaa5f;\n            color:  #000000;\n        }    #T_3c3f533a_27ab_11eb_a87a_a683e74e6339row4_col3 {\n            background-color:  #dd3d2d;\n            color:  #f1f1f1;\n        }    #T_3c3f533a_27ab_11eb_a87a_a683e74e6339row4_col4 {\n            background-color:  #006837;\n            color:  #f1f1f1;\n        }    #T_3c3f533a_27ab_11eb_a87a_a683e74e6339row4_col5 {\n            background-color:  #f99153;\n            color:  #000000;\n        }    #T_3c3f533a_27ab_11eb_a87a_a683e74e6339row4_col6 {\n            background-color:  #c62027;\n            color:  #f1f1f1;\n        }    #T_3c3f533a_27ab_11eb_a87a_a683e74e6339row4_col7 {\n            background-color:  #b71126;\n            color:  #f1f1f1;\n        }    #T_3c3f533a_27ab_11eb_a87a_a683e74e6339row4_col8 {\n            background-color:  #bd1726;\n            color:  #f1f1f1;\n        }    #T_3c3f533a_27ab_11eb_a87a_a683e74e6339row4_col9 {\n            background-color:  #f46d43;\n            color:  #000000;\n        }    #T_3c3f533a_27ab_11eb_a87a_a683e74e6339row4_col10 {\n            background-color:  #f88950;\n            color:  #000000;\n        }    #T_3c3f533a_27ab_11eb_a87a_a683e74e6339row4_col11 {\n            background-color:  #fcaa5f;\n            color:  #000000;\n        }    #T_3c3f533a_27ab_11eb_a87a_a683e74e6339row5_col0 {\n            background-color:  #ed5f3c;\n            color:  #000000;\n        }    #T_3c3f533a_27ab_11eb_a87a_a683e74e6339row5_col1 {\n            background-color:  #c01a27;\n            color:  #f1f1f1;\n        }    #T_3c3f533a_27ab_11eb_a87a_a683e74e6339row5_col2 {\n            background-color:  #f57547;\n            color:  #000000;\n        }    #T_3c3f533a_27ab_11eb_a87a_a683e74e6339row5_col3 {\n            background-color:  #a50026;\n            color:  #f1f1f1;\n        }    #T_3c3f533a_27ab_11eb_a87a_a683e74e6339row5_col4 {\n            background-color:  #ed5f3c;\n            color:  #000000;\n        }    #T_3c3f533a_27ab_11eb_a87a_a683e74e6339row5_col5 {\n            background-color:  #006837;\n            color:  #f1f1f1;\n        }    #T_3c3f533a_27ab_11eb_a87a_a683e74e6339row5_col6 {\n            background-color:  #f99153;\n            color:  #000000;\n        }    #T_3c3f533a_27ab_11eb_a87a_a683e74e6339row5_col7 {\n            background-color:  #cc2627;\n            color:  #f1f1f1;\n        }    #T_3c3f533a_27ab_11eb_a87a_a683e74e6339row5_col8 {\n            background-color:  #da362a;\n            color:  #f1f1f1;\n        }    #T_3c3f533a_27ab_11eb_a87a_a683e74e6339row5_col9 {\n            background-color:  #fede89;\n            color:  #000000;\n        }    #T_3c3f533a_27ab_11eb_a87a_a683e74e6339row5_col10 {\n            background-color:  #ef633f;\n            color:  #000000;\n        }    #T_3c3f533a_27ab_11eb_a87a_a683e74e6339row5_col11 {\n            background-color:  #f16640;\n            color:  #000000;\n        }    #T_3c3f533a_27ab_11eb_a87a_a683e74e6339row6_col0 {\n            background-color:  #f16640;\n            color:  #000000;\n        }    #T_3c3f533a_27ab_11eb_a87a_a683e74e6339row6_col1 {\n            background-color:  #da362a;\n            color:  #f1f1f1;\n        }    #T_3c3f533a_27ab_11eb_a87a_a683e74e6339row6_col2 {\n            background-color:  #f16640;\n            color:  #000000;\n        }    #T_3c3f533a_27ab_11eb_a87a_a683e74e6339row6_col3 {\n            background-color:  #e0422f;\n            color:  #f1f1f1;\n        }    #T_3c3f533a_27ab_11eb_a87a_a683e74e6339row6_col4 {\n            background-color:  #a90426;\n            color:  #f1f1f1;\n        }    #T_3c3f533a_27ab_11eb_a87a_a683e74e6339row6_col5 {\n            background-color:  #fca55d;\n            color:  #000000;\n        }    #T_3c3f533a_27ab_11eb_a87a_a683e74e6339row6_col6 {\n            background-color:  #006837;\n            color:  #f1f1f1;\n        }    #T_3c3f533a_27ab_11eb_a87a_a683e74e6339row6_col7 {\n            background-color:  #ca2427;\n            color:  #f1f1f1;\n        }    #T_3c3f533a_27ab_11eb_a87a_a683e74e6339row6_col8 {\n            background-color:  #d42d27;\n            color:  #f1f1f1;\n        }    #T_3c3f533a_27ab_11eb_a87a_a683e74e6339row6_col9 {\n            background-color:  #e5f49b;\n            color:  #000000;\n        }    #T_3c3f533a_27ab_11eb_a87a_a683e74e6339row6_col10 {\n            background-color:  #e44c34;\n            color:  #000000;\n        }    #T_3c3f533a_27ab_11eb_a87a_a683e74e6339row6_col11 {\n            background-color:  #db382b;\n            color:  #f1f1f1;\n        }    #T_3c3f533a_27ab_11eb_a87a_a683e74e6339row7_col0 {\n            background-color:  #fff3ac;\n            color:  #000000;\n        }    #T_3c3f533a_27ab_11eb_a87a_a683e74e6339row7_col1 {\n            background-color:  #fba05b;\n            color:  #000000;\n        }    #T_3c3f533a_27ab_11eb_a87a_a683e74e6339row7_col2 {\n            background-color:  #fdb365;\n            color:  #000000;\n        }    #T_3c3f533a_27ab_11eb_a87a_a683e74e6339row7_col3 {\n            background-color:  #f36b42;\n            color:  #000000;\n        }    #T_3c3f533a_27ab_11eb_a87a_a683e74e6339row7_col4 {\n            background-color:  #b71126;\n            color:  #f1f1f1;\n        }    #T_3c3f533a_27ab_11eb_a87a_a683e74e6339row7_col5 {\n            background-color:  #ec5c3b;\n            color:  #000000;\n        }    #T_3c3f533a_27ab_11eb_a87a_a683e74e6339row7_col6 {\n            background-color:  #e0422f;\n            color:  #f1f1f1;\n        }    #T_3c3f533a_27ab_11eb_a87a_a683e74e6339row7_col7 {\n            background-color:  #006837;\n            color:  #f1f1f1;\n        }    #T_3c3f533a_27ab_11eb_a87a_a683e74e6339row7_col8 {\n            background-color:  #016a38;\n            color:  #f1f1f1;\n        }    #T_3c3f533a_27ab_11eb_a87a_a683e74e6339row7_col9 {\n            background-color:  #f88950;\n            color:  #000000;\n        }    #T_3c3f533a_27ab_11eb_a87a_a683e74e6339row7_col10 {\n            background-color:  #d93429;\n            color:  #f1f1f1;\n        }    #T_3c3f533a_27ab_11eb_a87a_a683e74e6339row7_col11 {\n            background-color:  #e3f399;\n            color:  #000000;\n        }    #T_3c3f533a_27ab_11eb_a87a_a683e74e6339row8_col0 {\n            background-color:  #fff5ae;\n            color:  #000000;\n        }    #T_3c3f533a_27ab_11eb_a87a_a683e74e6339row8_col1 {\n            background-color:  #fb9d59;\n            color:  #000000;\n        }    #T_3c3f533a_27ab_11eb_a87a_a683e74e6339row8_col2 {\n            background-color:  #fdaf62;\n            color:  #000000;\n        }    #T_3c3f533a_27ab_11eb_a87a_a683e74e6339row8_col3 {\n            background-color:  #f26841;\n            color:  #000000;\n        }    #T_3c3f533a_27ab_11eb_a87a_a683e74e6339row8_col4 {\n            background-color:  #b10b26;\n            color:  #f1f1f1;\n        }    #T_3c3f533a_27ab_11eb_a87a_a683e74e6339row8_col5 {\n            background-color:  #ed5f3c;\n            color:  #000000;\n        }    #T_3c3f533a_27ab_11eb_a87a_a683e74e6339row8_col6 {\n            background-color:  #de402e;\n            color:  #f1f1f1;\n        }    #T_3c3f533a_27ab_11eb_a87a_a683e74e6339row8_col7 {\n            background-color:  #016a38;\n            color:  #f1f1f1;\n        }    #T_3c3f533a_27ab_11eb_a87a_a683e74e6339row8_col8 {\n            background-color:  #006837;\n            color:  #f1f1f1;\n        }    #T_3c3f533a_27ab_11eb_a87a_a683e74e6339row8_col9 {\n            background-color:  #f99355;\n            color:  #000000;\n        }    #T_3c3f533a_27ab_11eb_a87a_a683e74e6339row8_col10 {\n            background-color:  #ce2827;\n            color:  #f1f1f1;\n        }    #T_3c3f533a_27ab_11eb_a87a_a683e74e6339row8_col11 {\n            background-color:  #e5f49b;\n            color:  #000000;\n        }    #T_3c3f533a_27ab_11eb_a87a_a683e74e6339row9_col0 {\n            background-color:  #f8864f;\n            color:  #000000;\n        }    #T_3c3f533a_27ab_11eb_a87a_a683e74e6339row9_col1 {\n            background-color:  #de402e;\n            color:  #f1f1f1;\n        }    #T_3c3f533a_27ab_11eb_a87a_a683e74e6339row9_col2 {\n            background-color:  #a50026;\n            color:  #f1f1f1;\n        }    #T_3c3f533a_27ab_11eb_a87a_a683e74e6339row9_col3 {\n            background-color:  #de402e;\n            color:  #f1f1f1;\n        }    #T_3c3f533a_27ab_11eb_a87a_a683e74e6339row9_col4 {\n            background-color:  #a50026;\n            color:  #f1f1f1;\n        }    #T_3c3f533a_27ab_11eb_a87a_a683e74e6339row9_col5 {\n            background-color:  #fdb768;\n            color:  #000000;\n        }    #T_3c3f533a_27ab_11eb_a87a_a683e74e6339row9_col6 {\n            background-color:  #fffcba;\n            color:  #000000;\n        }    #T_3c3f533a_27ab_11eb_a87a_a683e74e6339row9_col7 {\n            background-color:  #be1827;\n            color:  #f1f1f1;\n        }    #T_3c3f533a_27ab_11eb_a87a_a683e74e6339row9_col8 {\n            background-color:  #d42d27;\n            color:  #f1f1f1;\n        }    #T_3c3f533a_27ab_11eb_a87a_a683e74e6339row9_col9 {\n            background-color:  #006837;\n            color:  #f1f1f1;\n        }    #T_3c3f533a_27ab_11eb_a87a_a683e74e6339row9_col10 {\n            background-color:  #a50026;\n            color:  #f1f1f1;\n        }    #T_3c3f533a_27ab_11eb_a87a_a683e74e6339row9_col11 {\n            background-color:  #a50026;\n            color:  #f1f1f1;\n        }    #T_3c3f533a_27ab_11eb_a87a_a683e74e6339row10_col0 {\n            background-color:  #a50026;\n            color:  #f1f1f1;\n        }    #T_3c3f533a_27ab_11eb_a87a_a683e74e6339row10_col1 {\n            background-color:  #a70226;\n            color:  #f1f1f1;\n        }    #T_3c3f533a_27ab_11eb_a87a_a683e74e6339row10_col2 {\n            background-color:  #fedc88;\n            color:  #000000;\n        }    #T_3c3f533a_27ab_11eb_a87a_a683e74e6339row10_col3 {\n            background-color:  #e34933;\n            color:  #f1f1f1;\n        }    #T_3c3f533a_27ab_11eb_a87a_a683e74e6339row10_col4 {\n            background-color:  #e65036;\n            color:  #000000;\n        }    #T_3c3f533a_27ab_11eb_a87a_a683e74e6339row10_col5 {\n            background-color:  #ed5f3c;\n            color:  #000000;\n        }    #T_3c3f533a_27ab_11eb_a87a_a683e74e6339row10_col6 {\n            background-color:  #d83128;\n            color:  #f1f1f1;\n        }    #T_3c3f533a_27ab_11eb_a87a_a683e74e6339row10_col7 {\n            background-color:  #a50026;\n            color:  #f1f1f1;\n        }    #T_3c3f533a_27ab_11eb_a87a_a683e74e6339row10_col8 {\n            background-color:  #a50026;\n            color:  #f1f1f1;\n        }    #T_3c3f533a_27ab_11eb_a87a_a683e74e6339row10_col9 {\n            background-color:  #d93429;\n            color:  #f1f1f1;\n        }    #T_3c3f533a_27ab_11eb_a87a_a683e74e6339row10_col10 {\n            background-color:  #006837;\n            color:  #f1f1f1;\n        }    #T_3c3f533a_27ab_11eb_a87a_a683e74e6339row10_col11 {\n            background-color:  #fa9b58;\n            color:  #000000;\n        }    #T_3c3f533a_27ab_11eb_a87a_a683e74e6339row11_col0 {\n            background-color:  #fdaf62;\n            color:  #000000;\n        }    #T_3c3f533a_27ab_11eb_a87a_a683e74e6339row11_col1 {\n            background-color:  #e65036;\n            color:  #000000;\n        }    #T_3c3f533a_27ab_11eb_a87a_a683e74e6339row11_col2 {\n            background-color:  #e9f6a1;\n            color:  #000000;\n        }    #T_3c3f533a_27ab_11eb_a87a_a683e74e6339row11_col3 {\n            background-color:  #f26841;\n            color:  #000000;\n        }    #T_3c3f533a_27ab_11eb_a87a_a683e74e6339row11_col4 {\n            background-color:  #e54e35;\n            color:  #000000;\n        }    #T_3c3f533a_27ab_11eb_a87a_a683e74e6339row11_col5 {\n            background-color:  #dc3b2c;\n            color:  #f1f1f1;\n        }    #T_3c3f533a_27ab_11eb_a87a_a683e74e6339row11_col6 {\n            background-color:  #a50026;\n            color:  #f1f1f1;\n        }    #T_3c3f533a_27ab_11eb_a87a_a683e74e6339row11_col7 {\n            background-color:  #fffbb8;\n            color:  #000000;\n        }    #T_3c3f533a_27ab_11eb_a87a_a683e74e6339row11_col8 {\n            background-color:  #fffdbc;\n            color:  #000000;\n        }    #T_3c3f533a_27ab_11eb_a87a_a683e74e6339row11_col9 {\n            background-color:  #b91326;\n            color:  #f1f1f1;\n        }    #T_3c3f533a_27ab_11eb_a87a_a683e74e6339row11_col10 {\n            background-color:  #f57547;\n            color:  #000000;\n        }    #T_3c3f533a_27ab_11eb_a87a_a683e74e6339row11_col11 {\n            background-color:  #006837;\n            color:  #f1f1f1;\n        }</style><table id=\"T_3c3f533a_27ab_11eb_a87a_a683e74e6339\" ><thead>    <tr>        <th class=\"blank level0\" ></th>        <th class=\"col_heading level0 col0\" >season</th>        <th class=\"col_heading level0 col1\" >mnth</th>        <th class=\"col_heading level0 col2\" >hr</th>        <th class=\"col_heading level0 col3\" >holiday</th>        <th class=\"col_heading level0 col4\" >weekday</th>        <th class=\"col_heading level0 col5\" >workingday</th>        <th class=\"col_heading level0 col6\" >weathersit</th>        <th class=\"col_heading level0 col7\" >temp</th>        <th class=\"col_heading level0 col8\" >atemp</th>        <th class=\"col_heading level0 col9\" >hum</th>        <th class=\"col_heading level0 col10\" >windspeed</th>        <th class=\"col_heading level0 col11\" >cnt</th>    </tr></thead><tbody>\n                <tr>\n                        <th id=\"T_3c3f533a_27ab_11eb_a87a_a683e74e6339level0_row0\" class=\"row_heading level0 row0\" >season</th>\n                        <td id=\"T_3c3f533a_27ab_11eb_a87a_a683e74e6339row0_col0\" class=\"data row0 col0\" >1.000000</td>\n                        <td id=\"T_3c3f533a_27ab_11eb_a87a_a683e74e6339row0_col1\" class=\"data row0 col1\" >0.795990</td>\n                        <td id=\"T_3c3f533a_27ab_11eb_a87a_a683e74e6339row0_col2\" class=\"data row0 col2\" >-0.046306</td>\n                        <td id=\"T_3c3f533a_27ab_11eb_a87a_a683e74e6339row0_col3\" class=\"data row0 col3\" >-0.057180</td>\n                        <td id=\"T_3c3f533a_27ab_11eb_a87a_a683e74e6339row0_col4\" class=\"data row0 col4\" >-0.049248</td>\n                        <td id=\"T_3c3f533a_27ab_11eb_a87a_a683e74e6339row0_col5\" class=\"data row0 col5\" >0.087355</td>\n                        <td id=\"T_3c3f533a_27ab_11eb_a87a_a683e74e6339row0_col6\" class=\"data row0 col6\" >0.097812</td>\n                        <td id=\"T_3c3f533a_27ab_11eb_a87a_a683e74e6339row0_col7\" class=\"data row0 col7\" >0.403317</td>\n                        <td id=\"T_3c3f533a_27ab_11eb_a87a_a683e74e6339row0_col8\" class=\"data row0 col8\" >0.406946</td>\n                        <td id=\"T_3c3f533a_27ab_11eb_a87a_a683e74e6339row0_col9\" class=\"data row0 col9\" >0.155086</td>\n                        <td id=\"T_3c3f533a_27ab_11eb_a87a_a683e74e6339row0_col10\" class=\"data row0 col10\" >-0.110663</td>\n                        <td id=\"T_3c3f533a_27ab_11eb_a87a_a683e74e6339row0_col11\" class=\"data row0 col11\" >0.225385</td>\n            </tr>\n            <tr>\n                        <th id=\"T_3c3f533a_27ab_11eb_a87a_a683e74e6339level0_row1\" class=\"row_heading level0 row1\" >mnth</th>\n                        <td id=\"T_3c3f533a_27ab_11eb_a87a_a683e74e6339row1_col0\" class=\"data row1 col0\" >0.795990</td>\n                        <td id=\"T_3c3f533a_27ab_11eb_a87a_a683e74e6339row1_col1\" class=\"data row1 col1\" >1.000000</td>\n                        <td id=\"T_3c3f533a_27ab_11eb_a87a_a683e74e6339row1_col2\" class=\"data row1 col2\" >0.000608</td>\n                        <td id=\"T_3c3f533a_27ab_11eb_a87a_a683e74e6339row1_col3\" class=\"data row1 col3\" >-0.012655</td>\n                        <td id=\"T_3c3f533a_27ab_11eb_a87a_a683e74e6339row1_col4\" class=\"data row1 col4\" >0.001790</td>\n                        <td id=\"T_3c3f533a_27ab_11eb_a87a_a683e74e6339row1_col5\" class=\"data row1 col5\" >0.045749</td>\n                        <td id=\"T_3c3f533a_27ab_11eb_a87a_a683e74e6339row1_col6\" class=\"data row1 col6\" >0.098688</td>\n                        <td id=\"T_3c3f533a_27ab_11eb_a87a_a683e74e6339row1_col7\" class=\"data row1 col7\" >0.270690</td>\n                        <td id=\"T_3c3f533a_27ab_11eb_a87a_a683e74e6339row1_col8\" class=\"data row1 col8\" >0.265519</td>\n                        <td id=\"T_3c3f533a_27ab_11eb_a87a_a683e74e6339row1_col9\" class=\"data row1 col9\" >0.116613</td>\n                        <td id=\"T_3c3f533a_27ab_11eb_a87a_a683e74e6339row1_col10\" class=\"data row1 col10\" >-0.005633</td>\n                        <td id=\"T_3c3f533a_27ab_11eb_a87a_a683e74e6339row1_col11\" class=\"data row1 col11\" >0.144026</td>\n            </tr>\n            <tr>\n                        <th id=\"T_3c3f533a_27ab_11eb_a87a_a683e74e6339level0_row2\" class=\"row_heading level0 row2\" >hr</th>\n                        <td id=\"T_3c3f533a_27ab_11eb_a87a_a683e74e6339row2_col0\" class=\"data row2 col0\" >-0.046306</td>\n                        <td id=\"T_3c3f533a_27ab_11eb_a87a_a683e74e6339row2_col1\" class=\"data row2 col1\" >0.000608</td>\n                        <td id=\"T_3c3f533a_27ab_11eb_a87a_a683e74e6339row2_col2\" class=\"data row2 col2\" >1.000000</td>\n                        <td id=\"T_3c3f533a_27ab_11eb_a87a_a683e74e6339row2_col3\" class=\"data row2 col3\" >0.104970</td>\n                        <td id=\"T_3c3f533a_27ab_11eb_a87a_a683e74e6339row2_col4\" class=\"data row2 col4\" >0.029337</td>\n                        <td id=\"T_3c3f533a_27ab_11eb_a87a_a683e74e6339row2_col5\" class=\"data row2 col5\" >-0.083801</td>\n                        <td id=\"T_3c3f533a_27ab_11eb_a87a_a683e74e6339row2_col6\" class=\"data row2 col6\" >-0.117088</td>\n                        <td id=\"T_3c3f533a_27ab_11eb_a87a_a683e74e6339row2_col7\" class=\"data row2 col7\" >0.049154</td>\n                        <td id=\"T_3c3f533a_27ab_11eb_a87a_a683e74e6339row2_col8\" class=\"data row2 col8\" >0.042834</td>\n                        <td id=\"T_3c3f533a_27ab_11eb_a87a_a683e74e6339row2_col9\" class=\"data row2 col9\" >-0.375612</td>\n                        <td id=\"T_3c3f533a_27ab_11eb_a87a_a683e74e6339row2_col10\" class=\"data row2 col10\" >0.162829</td>\n                        <td id=\"T_3c3f533a_27ab_11eb_a87a_a683e74e6339row2_col11\" class=\"data row2 col11\" >0.387503</td>\n            </tr>\n            <tr>\n                        <th id=\"T_3c3f533a_27ab_11eb_a87a_a683e74e6339level0_row3\" class=\"row_heading level0 row3\" >holiday</th>\n                        <td id=\"T_3c3f533a_27ab_11eb_a87a_a683e74e6339row3_col0\" class=\"data row3 col0\" >-0.057180</td>\n                        <td id=\"T_3c3f533a_27ab_11eb_a87a_a683e74e6339row3_col1\" class=\"data row3 col1\" >-0.012655</td>\n                        <td id=\"T_3c3f533a_27ab_11eb_a87a_a683e74e6339row3_col2\" class=\"data row3 col2\" >0.104970</td>\n                        <td id=\"T_3c3f533a_27ab_11eb_a87a_a683e74e6339row3_col3\" class=\"data row3 col3\" >1.000000</td>\n                        <td id=\"T_3c3f533a_27ab_11eb_a87a_a683e74e6339row3_col4\" class=\"data row3 col4\" >-0.065359</td>\n                        <td id=\"T_3c3f533a_27ab_11eb_a87a_a683e74e6339row3_col5\" class=\"data row3 col5\" >-0.216498</td>\n                        <td id=\"T_3c3f533a_27ab_11eb_a87a_a683e74e6339row3_col6\" class=\"data row3 col6\" >-0.059273</td>\n                        <td id=\"T_3c3f533a_27ab_11eb_a87a_a683e74e6339row3_col7\" class=\"data row3 col7\" >0.023122</td>\n                        <td id=\"T_3c3f533a_27ab_11eb_a87a_a683e74e6339row3_col8\" class=\"data row3 col8\" >0.020936</td>\n                        <td id=\"T_3c3f533a_27ab_11eb_a87a_a683e74e6339row3_col9\" class=\"data row3 col9\" >-0.064204</td>\n                        <td id=\"T_3c3f533a_27ab_11eb_a87a_a683e74e6339row3_col10\" class=\"data row3 col10\" >-0.043506</td>\n                        <td id=\"T_3c3f533a_27ab_11eb_a87a_a683e74e6339row3_col11\" class=\"data row3 col11\" >0.018659</td>\n            </tr>\n            <tr>\n                        <th id=\"T_3c3f533a_27ab_11eb_a87a_a683e74e6339level0_row4\" class=\"row_heading level0 row4\" >weekday</th>\n                        <td id=\"T_3c3f533a_27ab_11eb_a87a_a683e74e6339row4_col0\" class=\"data row4 col0\" >-0.049248</td>\n                        <td id=\"T_3c3f533a_27ab_11eb_a87a_a683e74e6339row4_col1\" class=\"data row4 col1\" >0.001790</td>\n                        <td id=\"T_3c3f533a_27ab_11eb_a87a_a683e74e6339row4_col2\" class=\"data row4 col2\" >0.029337</td>\n                        <td id=\"T_3c3f533a_27ab_11eb_a87a_a683e74e6339row4_col3\" class=\"data row4 col3\" >-0.065359</td>\n                        <td id=\"T_3c3f533a_27ab_11eb_a87a_a683e74e6339row4_col4\" class=\"data row4 col4\" >1.000000</td>\n                        <td id=\"T_3c3f533a_27ab_11eb_a87a_a683e74e6339row4_col5\" class=\"data row4 col5\" >0.096844</td>\n                        <td id=\"T_3c3f533a_27ab_11eb_a87a_a683e74e6339row4_col6\" class=\"data row4 col6\" >-0.088959</td>\n                        <td id=\"T_3c3f533a_27ab_11eb_a87a_a683e74e6339row4_col7\" class=\"data row4 col7\" >-0.057797</td>\n                        <td id=\"T_3c3f533a_27ab_11eb_a87a_a683e74e6339row4_col8\" class=\"data row4 col8\" >-0.071621</td>\n                        <td id=\"T_3c3f533a_27ab_11eb_a87a_a683e74e6339row4_col9\" class=\"data row4 col9\" >-0.098027</td>\n                        <td id=\"T_3c3f533a_27ab_11eb_a87a_a683e74e6339row4_col10\" class=\"data row4 col10\" >0.073404</td>\n                        <td id=\"T_3c3f533a_27ab_11eb_a87a_a683e74e6339row4_col11\" class=\"data row4 col11\" >0.067401</td>\n            </tr>\n            <tr>\n                        <th id=\"T_3c3f533a_27ab_11eb_a87a_a683e74e6339level0_row5\" class=\"row_heading level0 row5\" >workingday</th>\n                        <td id=\"T_3c3f533a_27ab_11eb_a87a_a683e74e6339row5_col0\" class=\"data row5 col0\" >0.087355</td>\n                        <td id=\"T_3c3f533a_27ab_11eb_a87a_a683e74e6339row5_col1\" class=\"data row5 col1\" >0.045749</td>\n                        <td id=\"T_3c3f533a_27ab_11eb_a87a_a683e74e6339row5_col2\" class=\"data row5 col2\" >-0.083801</td>\n                        <td id=\"T_3c3f533a_27ab_11eb_a87a_a683e74e6339row5_col3\" class=\"data row5 col3\" >-0.216498</td>\n                        <td id=\"T_3c3f533a_27ab_11eb_a87a_a683e74e6339row5_col4\" class=\"data row5 col4\" >0.096844</td>\n                        <td id=\"T_3c3f533a_27ab_11eb_a87a_a683e74e6339row5_col5\" class=\"data row5 col5\" >1.000000</td>\n                        <td id=\"T_3c3f533a_27ab_11eb_a87a_a683e74e6339row5_col6\" class=\"data row5 col6\" >0.131374</td>\n                        <td id=\"T_3c3f533a_27ab_11eb_a87a_a683e74e6339row5_col7\" class=\"data row5 col7\" >-0.007330</td>\n                        <td id=\"T_3c3f533a_27ab_11eb_a87a_a683e74e6339row5_col8\" class=\"data row5 col8\" >-0.001266</td>\n                        <td id=\"T_3c3f533a_27ab_11eb_a87a_a683e74e6339row5_col9\" class=\"data row5 col9\" >0.168470</td>\n                        <td id=\"T_3c3f533a_27ab_11eb_a87a_a683e74e6339row5_col10\" class=\"data row5 col10\" >-0.000534</td>\n                        <td id=\"T_3c3f533a_27ab_11eb_a87a_a683e74e6339row5_col11\" class=\"data row5 col11\" >-0.072353</td>\n            </tr>\n            <tr>\n                        <th id=\"T_3c3f533a_27ab_11eb_a87a_a683e74e6339level0_row6\" class=\"row_heading level0 row6\" >weathersit</th>\n                        <td id=\"T_3c3f533a_27ab_11eb_a87a_a683e74e6339row6_col0\" class=\"data row6 col0\" >0.097812</td>\n                        <td id=\"T_3c3f533a_27ab_11eb_a87a_a683e74e6339row6_col1\" class=\"data row6 col1\" >0.098688</td>\n                        <td id=\"T_3c3f533a_27ab_11eb_a87a_a683e74e6339row6_col2\" class=\"data row6 col2\" >-0.117088</td>\n                        <td id=\"T_3c3f533a_27ab_11eb_a87a_a683e74e6339row6_col3\" class=\"data row6 col3\" >-0.059273</td>\n                        <td id=\"T_3c3f533a_27ab_11eb_a87a_a683e74e6339row6_col4\" class=\"data row6 col4\" >-0.088959</td>\n                        <td id=\"T_3c3f533a_27ab_11eb_a87a_a683e74e6339row6_col5\" class=\"data row6 col5\" >0.131374</td>\n                        <td id=\"T_3c3f533a_27ab_11eb_a87a_a683e74e6339row6_col6\" class=\"data row6 col6\" >1.000000</td>\n                        <td id=\"T_3c3f533a_27ab_11eb_a87a_a683e74e6339row6_col7\" class=\"data row6 col7\" >-0.014367</td>\n                        <td id=\"T_3c3f533a_27ab_11eb_a87a_a683e74e6339row6_col8\" class=\"data row6 col8\" >-0.018496</td>\n                        <td id=\"T_3c3f533a_27ab_11eb_a87a_a683e74e6339row6_col9\" class=\"data row6 col9\" >0.403589</td>\n                        <td id=\"T_3c3f533a_27ab_11eb_a87a_a683e74e6339row6_col10\" class=\"data row6 col10\" >-0.047412</td>\n                        <td id=\"T_3c3f533a_27ab_11eb_a87a_a683e74e6339row6_col11\" class=\"data row6 col11\" >-0.167125</td>\n            </tr>\n            <tr>\n                        <th id=\"T_3c3f533a_27ab_11eb_a87a_a683e74e6339level0_row7\" class=\"row_heading level0 row7\" >temp</th>\n                        <td id=\"T_3c3f533a_27ab_11eb_a87a_a683e74e6339row7_col0\" class=\"data row7 col0\" >0.403317</td>\n                        <td id=\"T_3c3f533a_27ab_11eb_a87a_a683e74e6339row7_col1\" class=\"data row7 col1\" >0.270690</td>\n                        <td id=\"T_3c3f533a_27ab_11eb_a87a_a683e74e6339row7_col2\" class=\"data row7 col2\" >0.049154</td>\n                        <td id=\"T_3c3f533a_27ab_11eb_a87a_a683e74e6339row7_col3\" class=\"data row7 col3\" >0.023122</td>\n                        <td id=\"T_3c3f533a_27ab_11eb_a87a_a683e74e6339row7_col4\" class=\"data row7 col4\" >-0.057797</td>\n                        <td id=\"T_3c3f533a_27ab_11eb_a87a_a683e74e6339row7_col5\" class=\"data row7 col5\" >-0.007330</td>\n                        <td id=\"T_3c3f533a_27ab_11eb_a87a_a683e74e6339row7_col6\" class=\"data row7 col6\" >-0.014367</td>\n                        <td id=\"T_3c3f533a_27ab_11eb_a87a_a683e74e6339row7_col7\" class=\"data row7 col7\" >1.000000</td>\n                        <td id=\"T_3c3f533a_27ab_11eb_a87a_a683e74e6339row7_col8\" class=\"data row7 col8\" >0.992783</td>\n                        <td id=\"T_3c3f533a_27ab_11eb_a87a_a683e74e6339row7_col9\" class=\"data row7 col9\" >-0.037122</td>\n                        <td id=\"T_3c3f533a_27ab_11eb_a87a_a683e74e6339row7_col10\" class=\"data row7 col10\" >-0.096506</td>\n                        <td id=\"T_3c3f533a_27ab_11eb_a87a_a683e74e6339row7_col11\" class=\"data row7 col11\" >0.435036</td>\n            </tr>\n            <tr>\n                        <th id=\"T_3c3f533a_27ab_11eb_a87a_a683e74e6339level0_row8\" class=\"row_heading level0 row8\" >atemp</th>\n                        <td id=\"T_3c3f533a_27ab_11eb_a87a_a683e74e6339row8_col0\" class=\"data row8 col0\" >0.406946</td>\n                        <td id=\"T_3c3f533a_27ab_11eb_a87a_a683e74e6339row8_col1\" class=\"data row8 col1\" >0.265519</td>\n                        <td id=\"T_3c3f533a_27ab_11eb_a87a_a683e74e6339row8_col2\" class=\"data row8 col2\" >0.042834</td>\n                        <td id=\"T_3c3f533a_27ab_11eb_a87a_a683e74e6339row8_col3\" class=\"data row8 col3\" >0.020936</td>\n                        <td id=\"T_3c3f533a_27ab_11eb_a87a_a683e74e6339row8_col4\" class=\"data row8 col4\" >-0.071621</td>\n                        <td id=\"T_3c3f533a_27ab_11eb_a87a_a683e74e6339row8_col5\" class=\"data row8 col5\" >-0.001266</td>\n                        <td id=\"T_3c3f533a_27ab_11eb_a87a_a683e74e6339row8_col6\" class=\"data row8 col6\" >-0.018496</td>\n                        <td id=\"T_3c3f533a_27ab_11eb_a87a_a683e74e6339row8_col7\" class=\"data row8 col7\" >0.992783</td>\n                        <td id=\"T_3c3f533a_27ab_11eb_a87a_a683e74e6339row8_col8\" class=\"data row8 col8\" >1.000000</td>\n                        <td id=\"T_3c3f533a_27ab_11eb_a87a_a683e74e6339row8_col9\" class=\"data row8 col9\" >-0.017675</td>\n                        <td id=\"T_3c3f533a_27ab_11eb_a87a_a683e74e6339row8_col10\" class=\"data row8 col10\" >-0.126852</td>\n                        <td id=\"T_3c3f533a_27ab_11eb_a87a_a683e74e6339row8_col11\" class=\"data row8 col11\" >0.430083</td>\n            </tr>\n            <tr>\n                        <th id=\"T_3c3f533a_27ab_11eb_a87a_a683e74e6339level0_row9\" class=\"row_heading level0 row9\" >hum</th>\n                        <td id=\"T_3c3f533a_27ab_11eb_a87a_a683e74e6339row9_col0\" class=\"data row9 col0\" >0.155086</td>\n                        <td id=\"T_3c3f533a_27ab_11eb_a87a_a683e74e6339row9_col1\" class=\"data row9 col1\" >0.116613</td>\n                        <td id=\"T_3c3f533a_27ab_11eb_a87a_a683e74e6339row9_col2\" class=\"data row9 col2\" >-0.375612</td>\n                        <td id=\"T_3c3f533a_27ab_11eb_a87a_a683e74e6339row9_col3\" class=\"data row9 col3\" >-0.064204</td>\n                        <td id=\"T_3c3f533a_27ab_11eb_a87a_a683e74e6339row9_col4\" class=\"data row9 col4\" >-0.098027</td>\n                        <td id=\"T_3c3f533a_27ab_11eb_a87a_a683e74e6339row9_col5\" class=\"data row9 col5\" >0.168470</td>\n                        <td id=\"T_3c3f533a_27ab_11eb_a87a_a683e74e6339row9_col6\" class=\"data row9 col6\" >0.403589</td>\n                        <td id=\"T_3c3f533a_27ab_11eb_a87a_a683e74e6339row9_col7\" class=\"data row9 col7\" >-0.037122</td>\n                        <td id=\"T_3c3f533a_27ab_11eb_a87a_a683e74e6339row9_col8\" class=\"data row9 col8\" >-0.017675</td>\n                        <td id=\"T_3c3f533a_27ab_11eb_a87a_a683e74e6339row9_col9\" class=\"data row9 col9\" >1.000000</td>\n                        <td id=\"T_3c3f533a_27ab_11eb_a87a_a683e74e6339row9_col10\" class=\"data row9 col10\" >-0.228720</td>\n                        <td id=\"T_3c3f533a_27ab_11eb_a87a_a683e74e6339row9_col11\" class=\"data row9 col11\" >-0.321508</td>\n            </tr>\n            <tr>\n                        <th id=\"T_3c3f533a_27ab_11eb_a87a_a683e74e6339level0_row10\" class=\"row_heading level0 row10\" >windspeed</th>\n                        <td id=\"T_3c3f533a_27ab_11eb_a87a_a683e74e6339row10_col0\" class=\"data row10 col0\" >-0.110663</td>\n                        <td id=\"T_3c3f533a_27ab_11eb_a87a_a683e74e6339row10_col1\" class=\"data row10 col1\" >-0.005633</td>\n                        <td id=\"T_3c3f533a_27ab_11eb_a87a_a683e74e6339row10_col2\" class=\"data row10 col2\" >0.162829</td>\n                        <td id=\"T_3c3f533a_27ab_11eb_a87a_a683e74e6339row10_col3\" class=\"data row10 col3\" >-0.043506</td>\n                        <td id=\"T_3c3f533a_27ab_11eb_a87a_a683e74e6339row10_col4\" class=\"data row10 col4\" >0.073404</td>\n                        <td id=\"T_3c3f533a_27ab_11eb_a87a_a683e74e6339row10_col5\" class=\"data row10 col5\" >-0.000534</td>\n                        <td id=\"T_3c3f533a_27ab_11eb_a87a_a683e74e6339row10_col6\" class=\"data row10 col6\" >-0.047412</td>\n                        <td id=\"T_3c3f533a_27ab_11eb_a87a_a683e74e6339row10_col7\" class=\"data row10 col7\" >-0.096506</td>\n                        <td id=\"T_3c3f533a_27ab_11eb_a87a_a683e74e6339row10_col8\" class=\"data row10 col8\" >-0.126852</td>\n                        <td id=\"T_3c3f533a_27ab_11eb_a87a_a683e74e6339row10_col9\" class=\"data row10 col9\" >-0.228720</td>\n                        <td id=\"T_3c3f533a_27ab_11eb_a87a_a683e74e6339row10_col10\" class=\"data row10 col10\" >1.000000</td>\n                        <td id=\"T_3c3f533a_27ab_11eb_a87a_a683e74e6339row10_col11\" class=\"data row10 col11\" >0.034753</td>\n            </tr>\n            <tr>\n                        <th id=\"T_3c3f533a_27ab_11eb_a87a_a683e74e6339level0_row11\" class=\"row_heading level0 row11\" >cnt</th>\n                        <td id=\"T_3c3f533a_27ab_11eb_a87a_a683e74e6339row11_col0\" class=\"data row11 col0\" >0.225385</td>\n                        <td id=\"T_3c3f533a_27ab_11eb_a87a_a683e74e6339row11_col1\" class=\"data row11 col1\" >0.144026</td>\n                        <td id=\"T_3c3f533a_27ab_11eb_a87a_a683e74e6339row11_col2\" class=\"data row11 col2\" >0.387503</td>\n                        <td id=\"T_3c3f533a_27ab_11eb_a87a_a683e74e6339row11_col3\" class=\"data row11 col3\" >0.018659</td>\n                        <td id=\"T_3c3f533a_27ab_11eb_a87a_a683e74e6339row11_col4\" class=\"data row11 col4\" >0.067401</td>\n                        <td id=\"T_3c3f533a_27ab_11eb_a87a_a683e74e6339row11_col5\" class=\"data row11 col5\" >-0.072353</td>\n                        <td id=\"T_3c3f533a_27ab_11eb_a87a_a683e74e6339row11_col6\" class=\"data row11 col6\" >-0.167125</td>\n                        <td id=\"T_3c3f533a_27ab_11eb_a87a_a683e74e6339row11_col7\" class=\"data row11 col7\" >0.435036</td>\n                        <td id=\"T_3c3f533a_27ab_11eb_a87a_a683e74e6339row11_col8\" class=\"data row11 col8\" >0.430083</td>\n                        <td id=\"T_3c3f533a_27ab_11eb_a87a_a683e74e6339row11_col9\" class=\"data row11 col9\" >-0.321508</td>\n                        <td id=\"T_3c3f533a_27ab_11eb_a87a_a683e74e6339row11_col10\" class=\"data row11 col10\" >0.034753</td>\n                        <td id=\"T_3c3f533a_27ab_11eb_a87a_a683e74e6339row11_col11\" class=\"data row11 col11\" >1.000000</td>\n            </tr>\n    </tbody></table>"
     },
     "metadata": {},
     "execution_count": 5
    }
   ],
   "source": [
    "training.corr().style.background_gradient(cmap='RdYlGn')"
   ]
  },
  {
   "cell_type": "markdown",
   "metadata": {},
   "source": [
    "##### Answer the following questions:<br/>\n",
    "\n",
    "##### Q2. Why is the diagonal made up of 1's in the correlation matrix?<br/>\n",
    "The diagonal is the correlation between a data attribute and itself. Becuase the data is exactly the same, they are perfectly correlated\n",
    "\n",
    "##### Q3. Why is the matrix symmetric along diagonal?<br/>\n",
    "This matrix is symmetric becuase the columns and rows are symmetric. The calculated correlations are duplicated on either side.\n",
    "\n",
    "##### Q4. Looking at the correlation matrix, if you have to choose one predictor for a simple linear regression model with cnt as the outcome, which one would you choose and why? <br/>\n",
    "I would choose temp as the predictor becuase it has the highest absolute value of all the correlated variables with cnt."
   ]
  },
  {
   "cell_type": "markdown",
   "metadata": {},
   "source": [
    "### Standardization of features"
   ]
  },
  {
   "cell_type": "markdown",
   "metadata": {},
   "source": [
    "Feature standardization makes the values of each feature in the data have zero-mean and unit-variance. This method is widely used for normalization in many machine learning algorithms. The general method of calculation is to determine the distribution mean and standard deviation for each feature. Next we subtract the mean from each feature. Then we divide the values of each feature by its standard deviation.\n",
    "\n",
    "$x'$ = ($x$ - $\\bar{x}$)/$\\sigma$ \n",
    "\n",
    "where $x$ is the original feature vector,\n",
    "$\\bar{x}$ is the mean of the feature vector and\n",
    "$\\sigma$ is its standard deviation.\n",
    "\n",
    "This is also called Z-score Normalization. \n",
    "\n",
    "Perform Z-score Normalization on \"temp\", \"atemp\",\"hum\",\"windspeed\"\n"
   ]
  },
  {
   "cell_type": "code",
   "execution_count": 6,
   "metadata": {},
   "outputs": [
    {
     "output_type": "execute_result",
     "data": {
      "text/plain": [
       "array([[-4.07572539e-01, -3.03587659e-01, -7.90860172e-01,\n",
       "         5.40063916e-04],\n",
       "       [ 6.55705186e-03,  4.47228379e-02, -3.59579915e-01,\n",
       "         1.83266598e+00],\n",
       "       [ 6.27751439e-01,  4.80398344e-01,  1.41945115e+00,\n",
       "        -1.58692054e+00],\n",
       "       ...,\n",
       "       [-8.21702131e-01, -9.12843644e-01,  2.33430439e-01,\n",
       "         4.89052424e-01],\n",
       "       [ 7.31283836e-01,  7.41918602e-01,  1.79520407e-01,\n",
       "        -1.58692054e+00],\n",
       "       [-5.11104937e-01, -3.90377898e-01, -8.44770204e-01,\n",
       "         2.19925482e+00]])"
      ]
     },
     "metadata": {},
     "execution_count": 6
    }
   ],
   "source": [
    "from sklearn.preprocessing import StandardScaler\n",
    "\n",
    "StandardScaler().fit_transform(training[['temp', 'atemp', 'hum', 'windspeed']])"
   ]
  },
  {
   "cell_type": "markdown",
   "metadata": {},
   "source": [
    "##### Q5. What are the advantages and disadvantages of using Z-score Normalization?<br/>\n",
    "Z score normalization allows for all attributes to be compared by their distance from that attributes distribution mean. This is beneficial in that comparisons can be made between attributes that do not have similar units. \n",
    "\n",
    "The disadvantage is that z score normilization assumes a normal distribution, which is not always the case.\n",
    "\n",
    "##### Q6. In this dataset, do you need to use the Z-score Normalization? Explain.<br/>\n",
    "Z score normalization would be reasonable for all but windspeed (becuase of the spread). But, as normalization has already been done (scaled between 0 and 1), unless we are concerned about being able to compare the variability from the mean, it is not necessary."
   ]
  },
  {
   "cell_type": "markdown",
   "metadata": {},
   "source": [
    "### One-Hot Encoding"
   ]
  },
  {
   "cell_type": "markdown",
   "metadata": {},
   "source": [
    "\"temp\", \"atemp\",\"hum\" and \"windspeed\" are continuous values whereas the others contain discrete values. E.g. \"mnth\" can only take on the integers from 1 to 12. We need to perform one-hot encoding on discrete values for it to be processed in the model. One hot encoding is a process by which categorical variables are converted into a form that could be provided to ML algorithms to do a better job in prediction.\n",
    "\n",
    "Perform one-hot encoding on all the categorical features and print the shape of your encoded array"
   ]
  },
  {
   "cell_type": "code",
   "execution_count": 7,
   "metadata": {},
   "outputs": [
    {
     "output_type": "execute_result",
     "data": {
      "text/plain": [
       "(300, 50)"
      ]
     },
     "metadata": {},
     "execution_count": 7
    }
   ],
   "source": [
    "from sklearn.preprocessing import OneHotEncoder\n",
    "\n",
    "# Print the shape of your encoded X\n",
    "# encoding all but the binary categories\n",
    "array = OneHotEncoder().fit_transform(training.iloc[:,np.r_[0:3, 4, 6]])\n",
    "array.shape"
   ]
  },
  {
   "cell_type": "markdown",
   "metadata": {},
   "source": [
    "##### Q7. What are the advantages and disadvantages of using One-hot encoding?<br/>\n",
    "The categories that are already binary are converted when they dont need to be. Also, if a category is not present in the training set, then it wont be encoded. For example, weathersit has a 4th category that doesn't present itself in this particular training set, and so OneHotEncoder doesnt create a column for it.\n",
    "\n",
    "It is also possible that, depending on the number of categories, that the feature set may grow extremely large."
   ]
  },
  {
   "cell_type": "markdown",
   "metadata": {},
   "source": [
    "## Multiple Linear Regression\n",
    "\n",
    "In the big data era, it is highly unlikely that we are interested in the effect of a single variable on another. To simultaneously account for the effects of multiple variables, we use multiple regression (which accounts for the covariances between predictors).\n",
    "\n",
    "While the algorithmic solution to multiple regression exists, it is easier to conceptualize in terms of linear algebra. The optimal $\\hat{\\beta}$ vector that minimizes the residual sum of squares is:\n",
    "\n",
    "$\\hat{\\beta} = (X^TX)^{-1}X^Ty $\n",
    "\n",
    "\n",
    "Perform multiple linear regression on the training dataset, where the outcome is \"cnt\"."
   ]
  },
  {
   "cell_type": "code",
   "execution_count": 8,
   "metadata": {},
   "outputs": [
    {
     "output_type": "execute_result",
     "data": {
      "text/plain": [
       "     holiday  workingday  temp   atemp   hum  windspeed  cnt    0    1    2  \\\n",
       "0          0           1  0.42  0.4242  0.47     0.1940  283  1.0  0.0  0.0   \n",
       "1          0           0  0.50  0.4848  0.55     0.4179  330  0.0  0.0  0.0   \n",
       "2          0           0  0.62  0.5606  0.88     0.0000   88  0.0  0.0  1.0   \n",
       "3          0           1  0.70  0.6364  0.42     0.1940  183  0.0  0.0  1.0   \n",
       "4          0           1  0.80  0.7424  0.52     0.1642  314  0.0  0.0  1.0   \n",
       "..       ...         ...   ...     ...   ...        ...  ...  ...  ...  ...   \n",
       "295        0           1  0.26  0.2727  0.81     0.1045   41  1.0  0.0  0.0   \n",
       "296        0           1  0.54  0.5152  0.83     0.1940  172  0.0  1.0  0.0   \n",
       "297        0           1  0.34  0.3182  0.66     0.2537   89  0.0  1.0  0.0   \n",
       "298        0           0  0.64  0.6061  0.65     0.0000   45  0.0  0.0  1.0   \n",
       "299        0           1  0.40  0.4091  0.46     0.4627   68  0.0  1.0  0.0   \n",
       "\n",
       "     ...   40   41   42   43   44   45   46   47   48   49  \n",
       "0    ...  0.0  0.0  0.0  0.0  0.0  1.0  0.0  1.0  0.0  0.0  \n",
       "1    ...  1.0  0.0  0.0  0.0  0.0  0.0  0.0  0.0  1.0  0.0  \n",
       "2    ...  1.0  0.0  0.0  0.0  0.0  0.0  0.0  0.0  1.0  0.0  \n",
       "3    ...  0.0  0.0  0.0  1.0  0.0  0.0  0.0  1.0  0.0  0.0  \n",
       "4    ...  0.0  1.0  0.0  0.0  0.0  0.0  0.0  0.0  1.0  0.0  \n",
       "..   ...  ...  ...  ...  ...  ...  ...  ...  ...  ...  ...  \n",
       "295  ...  0.0  0.0  1.0  0.0  0.0  0.0  0.0  1.0  0.0  0.0  \n",
       "296  ...  0.0  0.0  0.0  0.0  1.0  0.0  0.0  1.0  0.0  0.0  \n",
       "297  ...  0.0  0.0  0.0  0.0  1.0  0.0  0.0  1.0  0.0  0.0  \n",
       "298  ...  0.0  0.0  0.0  0.0  0.0  0.0  1.0  1.0  0.0  0.0  \n",
       "299  ...  0.0  0.0  1.0  0.0  0.0  0.0  0.0  1.0  0.0  0.0  \n",
       "\n",
       "[300 rows x 57 columns]"
      ],
      "text/html": "<div>\n<style scoped>\n    .dataframe tbody tr th:only-of-type {\n        vertical-align: middle;\n    }\n\n    .dataframe tbody tr th {\n        vertical-align: top;\n    }\n\n    .dataframe thead th {\n        text-align: right;\n    }\n</style>\n<table border=\"1\" class=\"dataframe\">\n  <thead>\n    <tr style=\"text-align: right;\">\n      <th></th>\n      <th>holiday</th>\n      <th>workingday</th>\n      <th>temp</th>\n      <th>atemp</th>\n      <th>hum</th>\n      <th>windspeed</th>\n      <th>cnt</th>\n      <th>0</th>\n      <th>1</th>\n      <th>2</th>\n      <th>...</th>\n      <th>40</th>\n      <th>41</th>\n      <th>42</th>\n      <th>43</th>\n      <th>44</th>\n      <th>45</th>\n      <th>46</th>\n      <th>47</th>\n      <th>48</th>\n      <th>49</th>\n    </tr>\n  </thead>\n  <tbody>\n    <tr>\n      <th>0</th>\n      <td>0</td>\n      <td>1</td>\n      <td>0.42</td>\n      <td>0.4242</td>\n      <td>0.47</td>\n      <td>0.1940</td>\n      <td>283</td>\n      <td>1.0</td>\n      <td>0.0</td>\n      <td>0.0</td>\n      <td>...</td>\n      <td>0.0</td>\n      <td>0.0</td>\n      <td>0.0</td>\n      <td>0.0</td>\n      <td>0.0</td>\n      <td>1.0</td>\n      <td>0.0</td>\n      <td>1.0</td>\n      <td>0.0</td>\n      <td>0.0</td>\n    </tr>\n    <tr>\n      <th>1</th>\n      <td>0</td>\n      <td>0</td>\n      <td>0.50</td>\n      <td>0.4848</td>\n      <td>0.55</td>\n      <td>0.4179</td>\n      <td>330</td>\n      <td>0.0</td>\n      <td>0.0</td>\n      <td>0.0</td>\n      <td>...</td>\n      <td>1.0</td>\n      <td>0.0</td>\n      <td>0.0</td>\n      <td>0.0</td>\n      <td>0.0</td>\n      <td>0.0</td>\n      <td>0.0</td>\n      <td>0.0</td>\n      <td>1.0</td>\n      <td>0.0</td>\n    </tr>\n    <tr>\n      <th>2</th>\n      <td>0</td>\n      <td>0</td>\n      <td>0.62</td>\n      <td>0.5606</td>\n      <td>0.88</td>\n      <td>0.0000</td>\n      <td>88</td>\n      <td>0.0</td>\n      <td>0.0</td>\n      <td>1.0</td>\n      <td>...</td>\n      <td>1.0</td>\n      <td>0.0</td>\n      <td>0.0</td>\n      <td>0.0</td>\n      <td>0.0</td>\n      <td>0.0</td>\n      <td>0.0</td>\n      <td>0.0</td>\n      <td>1.0</td>\n      <td>0.0</td>\n    </tr>\n    <tr>\n      <th>3</th>\n      <td>0</td>\n      <td>1</td>\n      <td>0.70</td>\n      <td>0.6364</td>\n      <td>0.42</td>\n      <td>0.1940</td>\n      <td>183</td>\n      <td>0.0</td>\n      <td>0.0</td>\n      <td>1.0</td>\n      <td>...</td>\n      <td>0.0</td>\n      <td>0.0</td>\n      <td>0.0</td>\n      <td>1.0</td>\n      <td>0.0</td>\n      <td>0.0</td>\n      <td>0.0</td>\n      <td>1.0</td>\n      <td>0.0</td>\n      <td>0.0</td>\n    </tr>\n    <tr>\n      <th>4</th>\n      <td>0</td>\n      <td>1</td>\n      <td>0.80</td>\n      <td>0.7424</td>\n      <td>0.52</td>\n      <td>0.1642</td>\n      <td>314</td>\n      <td>0.0</td>\n      <td>0.0</td>\n      <td>1.0</td>\n      <td>...</td>\n      <td>0.0</td>\n      <td>1.0</td>\n      <td>0.0</td>\n      <td>0.0</td>\n      <td>0.0</td>\n      <td>0.0</td>\n      <td>0.0</td>\n      <td>0.0</td>\n      <td>1.0</td>\n      <td>0.0</td>\n    </tr>\n    <tr>\n      <th>...</th>\n      <td>...</td>\n      <td>...</td>\n      <td>...</td>\n      <td>...</td>\n      <td>...</td>\n      <td>...</td>\n      <td>...</td>\n      <td>...</td>\n      <td>...</td>\n      <td>...</td>\n      <td>...</td>\n      <td>...</td>\n      <td>...</td>\n      <td>...</td>\n      <td>...</td>\n      <td>...</td>\n      <td>...</td>\n      <td>...</td>\n      <td>...</td>\n      <td>...</td>\n      <td>...</td>\n    </tr>\n    <tr>\n      <th>295</th>\n      <td>0</td>\n      <td>1</td>\n      <td>0.26</td>\n      <td>0.2727</td>\n      <td>0.81</td>\n      <td>0.1045</td>\n      <td>41</td>\n      <td>1.0</td>\n      <td>0.0</td>\n      <td>0.0</td>\n      <td>...</td>\n      <td>0.0</td>\n      <td>0.0</td>\n      <td>1.0</td>\n      <td>0.0</td>\n      <td>0.0</td>\n      <td>0.0</td>\n      <td>0.0</td>\n      <td>1.0</td>\n      <td>0.0</td>\n      <td>0.0</td>\n    </tr>\n    <tr>\n      <th>296</th>\n      <td>0</td>\n      <td>1</td>\n      <td>0.54</td>\n      <td>0.5152</td>\n      <td>0.83</td>\n      <td>0.1940</td>\n      <td>172</td>\n      <td>0.0</td>\n      <td>1.0</td>\n      <td>0.0</td>\n      <td>...</td>\n      <td>0.0</td>\n      <td>0.0</td>\n      <td>0.0</td>\n      <td>0.0</td>\n      <td>1.0</td>\n      <td>0.0</td>\n      <td>0.0</td>\n      <td>1.0</td>\n      <td>0.0</td>\n      <td>0.0</td>\n    </tr>\n    <tr>\n      <th>297</th>\n      <td>0</td>\n      <td>1</td>\n      <td>0.34</td>\n      <td>0.3182</td>\n      <td>0.66</td>\n      <td>0.2537</td>\n      <td>89</td>\n      <td>0.0</td>\n      <td>1.0</td>\n      <td>0.0</td>\n      <td>...</td>\n      <td>0.0</td>\n      <td>0.0</td>\n      <td>0.0</td>\n      <td>0.0</td>\n      <td>1.0</td>\n      <td>0.0</td>\n      <td>0.0</td>\n      <td>1.0</td>\n      <td>0.0</td>\n      <td>0.0</td>\n    </tr>\n    <tr>\n      <th>298</th>\n      <td>0</td>\n      <td>0</td>\n      <td>0.64</td>\n      <td>0.6061</td>\n      <td>0.65</td>\n      <td>0.0000</td>\n      <td>45</td>\n      <td>0.0</td>\n      <td>0.0</td>\n      <td>1.0</td>\n      <td>...</td>\n      <td>0.0</td>\n      <td>0.0</td>\n      <td>0.0</td>\n      <td>0.0</td>\n      <td>0.0</td>\n      <td>0.0</td>\n      <td>1.0</td>\n      <td>1.0</td>\n      <td>0.0</td>\n      <td>0.0</td>\n    </tr>\n    <tr>\n      <th>299</th>\n      <td>0</td>\n      <td>1</td>\n      <td>0.40</td>\n      <td>0.4091</td>\n      <td>0.46</td>\n      <td>0.4627</td>\n      <td>68</td>\n      <td>0.0</td>\n      <td>1.0</td>\n      <td>0.0</td>\n      <td>...</td>\n      <td>0.0</td>\n      <td>0.0</td>\n      <td>1.0</td>\n      <td>0.0</td>\n      <td>0.0</td>\n      <td>0.0</td>\n      <td>0.0</td>\n      <td>1.0</td>\n      <td>0.0</td>\n      <td>0.0</td>\n    </tr>\n  </tbody>\n</table>\n<p>300 rows × 57 columns</p>\n</div>"
     },
     "metadata": {},
     "execution_count": 8
    }
   ],
   "source": [
    "from sklearn.linear_model import LinearRegression\n",
    "\n",
    "# merge encoded categories onto the original dataframe for modeling\n",
    "category_array = OneHotEncoder().fit_transform(training.iloc[:,np.r_[0:3, 4, 6]])\n",
    "new_df = pd.DataFrame(category_array.toarray())\n",
    "training_new = training.drop(training.columns[np.r_[0:3, 4, 6]], axis=1)\n",
    "training_new = training_new.join(new_df)\n",
    "training_new"
   ]
  },
  {
   "cell_type": "code",
   "execution_count": 9,
   "metadata": {},
   "outputs": [
    {
     "output_type": "execute_result",
     "data": {
      "text/plain": [
       "11285.282916666667"
      ]
     },
     "metadata": {},
     "execution_count": 9
    }
   ],
   "source": [
    "# Bulding and fitting the Linear Regression model \n",
    "cols = [i for i in training_new.columns if i != 'cnt']\n",
    "model = LinearRegression().fit(training_new[cols], training[['cnt']])\n",
    "\n",
    "# Evaluating the Linear Regression model by computing MSE on training set\n",
    "from sklearn.metrics import mean_squared_error\n",
    "y_pred = model.predict(training_new[cols])\n",
    "y_true = training_new[['cnt']]\n",
    "mean_squared_error(y_true, y_pred)"
   ]
  },
  {
   "cell_type": "markdown",
   "metadata": {},
   "source": [
    "###### Q8. Print the value of bhat"
   ]
  },
  {
   "cell_type": "code",
   "execution_count": 10,
   "metadata": {},
   "outputs": [
    {
     "output_type": "execute_result",
     "data": {
      "text/plain": [
       "array([[-3.59189798e+11, -3.59189798e+11,  8.07565125e+02,\n",
       "        -5.02757233e+02, -5.18418884e+01, -1.05887909e+02,\n",
       "        -5.51139729e+14, -5.51139729e+14, -5.51139729e+14,\n",
       "        -5.51139729e+14,  3.30508439e+14,  3.30508439e+14,\n",
       "         3.30508439e+14,  3.30508439e+14,  3.30508439e+14,\n",
       "         3.30508439e+14,  3.30508439e+14,  3.30508439e+14,\n",
       "         3.30508439e+14,  3.30508439e+14,  3.30508439e+14,\n",
       "         3.30508439e+14, -5.87346310e+13, -5.87346310e+13,\n",
       "        -5.87346310e+13, -5.87346310e+13, -5.87346310e+13,\n",
       "        -5.87346310e+13, -5.87346310e+13, -5.87346310e+13,\n",
       "        -5.87346310e+13, -5.87346310e+13, -5.87346310e+13,\n",
       "        -5.87346310e+13, -5.87346310e+13, -5.87346310e+13,\n",
       "        -5.87346310e+13, -5.87346310e+13, -5.87346310e+13,\n",
       "        -5.87346310e+13, -5.87346310e+13, -5.87346310e+13,\n",
       "        -5.87346310e+13, -5.87346310e+13, -5.87346310e+13,\n",
       "        -5.87346310e+13, -6.06881116e+14, -6.06521927e+14,\n",
       "        -6.06521927e+14, -6.06521927e+14, -6.06521927e+14,\n",
       "        -6.06521927e+14, -6.06881116e+14, -4.72789353e+14,\n",
       "        -4.72789353e+14, -4.72789353e+14]])"
      ]
     },
     "metadata": {},
     "execution_count": 10
    }
   ],
   "source": [
    "# coefficients for all encoded variables\n",
    "model.coef_"
   ]
  },
  {
   "cell_type": "code",
   "execution_count": 11,
   "metadata": {},
   "outputs": [
    {
     "output_type": "execute_result",
     "data": {
      "text/plain": [
       "array([1.35903639e+15])"
      ]
     },
     "metadata": {},
     "execution_count": 11
    }
   ],
   "source": [
    "# model intercept\n",
    "model.intercept_"
   ]
  },
  {
   "cell_type": "markdown",
   "metadata": {},
   "source": [
    "###### Q9. Is there a problem of multicolinearity? Explain what you can do<br/>\n",
    "There is a problem of multicolinearity. We can observe this by the nearly perfect correlation between temp and atemp. One of the variables should be dropped."
   ]
  },
  {
   "cell_type": "markdown",
   "metadata": {},
   "source": [
    "### Goodness of fit\n",
    "\n",
    "A model can always make predictions. But it is important to determine how good the model is.\n",
    "How do we know that our model captures the data well? When evaluating model fit, a good metric is $R^2$, which corresponds to the amount of variance explained by the model. The formula for $R^2$ is the following:\n",
    "\n",
    "$R^2$ = $1 - \\dfrac{RSS}{TSS}$<br/>\n",
    "where:<br/>\n",
    "$RSS = \\Sigma(y - \\hat{y})^2$<br/>\n",
    "$TSS = \\Sigma(y - \\bar{y})^2$<br/>\n",
    "\n",
    "$R^2$ is also one metric for comparing models against each other. It is intuitive to say that the model that explains more variation in the data is a better fit than one that explains less variation. \n",
    "\n",
    "Fill in the code for calculation of R2 score "
   ]
  },
  {
   "cell_type": "code",
   "execution_count": 12,
   "metadata": {},
   "outputs": [],
   "source": [
    "from sklearn.metrics import r2_score"
   ]
  },
  {
   "cell_type": "markdown",
   "metadata": {},
   "source": [
    "#### R2 score for model with \"temp\" as predictor and \"cnt\" as outcome"
   ]
  },
  {
   "cell_type": "code",
   "execution_count": 13,
   "metadata": {},
   "outputs": [
    {
     "output_type": "execute_result",
     "data": {
      "text/plain": [
       "0.18925663564676132"
      ]
     },
     "metadata": {},
     "execution_count": 13
    }
   ],
   "source": [
    "model_temp = LinearRegression().fit(training[['temp']], training[['cnt']])\n",
    "temp_pred = model_temp.predict(training[['temp']])\n",
    "\n",
    "# Print R2 score\n",
    "r2_score(y_true, temp_pred)"
   ]
  },
  {
   "cell_type": "markdown",
   "metadata": {},
   "source": [
    "#### R2 score for model with \"temp\", \"hum\" as predictors and \"cnt\" as outcome"
   ]
  },
  {
   "cell_type": "code",
   "execution_count": 14,
   "metadata": {},
   "outputs": [
    {
     "output_type": "execute_result",
     "data": {
      "text/plain": [
       "0.2826295103178843"
      ]
     },
     "metadata": {},
     "execution_count": 14
    }
   ],
   "source": [
    "model_temp = LinearRegression().fit(training[['temp', 'hum']], training[['cnt']])\n",
    "temp_hum_pred = model_temp.predict(training[['temp', 'hum']])\n",
    "\n",
    "# Print R2 score\n",
    "r2_score(y_true, temp_hum_pred)"
   ]
  },
  {
   "cell_type": "markdown",
   "metadata": {},
   "source": [
    "#### R2 score for model with  \"temp\", \"atemp\", \"hum\" as predictors and \"cnt\" as outcome"
   ]
  },
  {
   "cell_type": "code",
   "execution_count": 15,
   "metadata": {},
   "outputs": [
    {
     "output_type": "execute_result",
     "data": {
      "text/plain": [
       "0.28380026219213783"
      ]
     },
     "metadata": {},
     "execution_count": 15
    }
   ],
   "source": [
    "model_temp = LinearRegression().fit(training[['temp', 'hum', 'atemp']], training[['cnt']])\n",
    "a_temp_hum_pred = model_temp.predict(training[['temp', 'hum', 'atemp']])\n",
    "\n",
    "# Print R2 score\n",
    "r2_score(y_true, a_temp_hum_pred)"
   ]
  },
  {
   "cell_type": "markdown",
   "metadata": {},
   "source": [
    "You can see $R^2$ is always going up as we keep adding features.\n",
    "\n",
    "This is one drawback of only using $R^2$ to evaluate your model. Adding predictors will always improve the predictive ability of your model, though it may not be meaningful.\n",
    "\n",
    "That is to say, we are not necessarily interested in making a perfect prediciton of our data. If we were, we would always use all of the predictors available. Rather, we are interested in the most predictive features, in the hopes that we can create a simpler model that performs nearly as well.\n",
    "\n",
    "This is why we consider another metric, Adjusted R2.\n",
    "The adjusted R-squared increases only if the new term improves the model more than would be expected by chance.\n",
    "Using Adjusted R2 score, please give the most relevant combination of predictors in determining the profit of the startup.\n",
    "\n",
    "\n",
    "$AdjustedR^2$ = $1 - \\dfrac{(1-R^2)(n-1)}{(n-k-1)}$<br/>\n",
    "where:<br/>\n",
    "n = number of samples<br/>\n",
    "k = number of features\n",
    "\n",
    "Fill in the code for calculation of adjusted R2 score"
   ]
  },
  {
   "cell_type": "markdown",
   "metadata": {},
   "source": [
    "#### Adjusted R2 score for model with \"temp\" as predictor and \"cnt\" as outcome"
   ]
  },
  {
   "cell_type": "code",
   "execution_count": 16,
   "metadata": {},
   "outputs": [
    {
     "output_type": "execute_result",
     "data": {
      "text/plain": [
       "0.18653602033013972"
      ]
     },
     "metadata": {},
     "execution_count": 16
    }
   ],
   "source": [
    "def adjusted_R2(r2, n, k):\n",
    "    \"\"\"Thie function calculates an adjusted score from an unadjusted score\"\"\"\n",
    "    return 1-((1-r2)*(n-1)/(n-k-1))\n",
    "\n",
    "# Print Adjusted R2 score\n",
    "adjusted_R2(r2_score(y_true, temp_pred), 300, 1)"
   ]
  },
  {
   "cell_type": "markdown",
   "metadata": {},
   "source": [
    "#### Adjusted R2 score for model with \"temp\", \"hum\" as predictors and \"cnt\" as outcome"
   ]
  },
  {
   "cell_type": "code",
   "execution_count": 17,
   "metadata": {},
   "outputs": [
    {
     "output_type": "execute_result",
     "data": {
      "text/plain": [
       "0.2777987326095872"
      ]
     },
     "metadata": {},
     "execution_count": 17
    }
   ],
   "source": [
    "# Print Adjusted R2 score\n",
    "adjusted_R2(r2_score(y_true, temp_hum_pred), 300, 2)"
   ]
  },
  {
   "cell_type": "markdown",
   "metadata": {},
   "source": [
    "#### Adjusted R2 score for model with  \"temp\", \"atemp\", \"hum\" as predictors and \"cnt\" as outcome"
   ]
  },
  {
   "cell_type": "code",
   "execution_count": 18,
   "metadata": {},
   "outputs": [
    {
     "output_type": "execute_result",
     "data": {
      "text/plain": [
       "0.27654148106570675"
      ]
     },
     "metadata": {},
     "execution_count": 18
    }
   ],
   "source": [
    "# Print Adjusted R2 score\n",
    "adjusted_R2(r2_score(y_true, a_temp_hum_pred), 300, 3)"
   ]
  },
  {
   "cell_type": "markdown",
   "metadata": {},
   "source": [
    "### K-fold Cross-Validation\n",
    "\n",
    "However, adjusted R2 is not enough to help us achieve the best model, a more robust method is k-fold cross-validation.\n",
    "\n",
    "* Randomly split dataset into K equal-sized subsets, or folds\n",
    "* Treat each fold as validation set (train on all but K'th fold and test on K'th fold only)\n",
    "\n",
    "* The overall error is then the mean error over all K models.\n",
    "* Most common are 5- or 10-fold cross-validation\n",
    "\n",
    "Please implement a 5-fold cross-validation by yourselves to find the best model in terms of Mean Square Error(MSE)\n",
    "\n",
    "**Do not use sklearn.model_selection.cross_val_score or other built-in cross-validaiton functions**"
   ]
  },
  {
   "cell_type": "code",
   "execution_count": 19,
   "metadata": {},
   "outputs": [],
   "source": [
    "# Design a function to implement 5-fold cross-validation. \n",
    "# The input: training features X, training target y.\n",
    "# The output: the average of MSE over the 5 folds.\n",
    "\n",
    "def cross_val_mse(x, y):\n",
    "    \"\"\"This function outputs the average of 5 caluclated mean squared errors.  \n",
    "    Essentially a reproduction of sklearns cross fold validation function... using a static 5 k folds.\"\"\"    \n",
    "    mse_l = [] # empty list for mse\n",
    "    for i in range(5):\n",
    "        # create the smaller test fold first by calculating/selecting its index range\n",
    "        x_test_fold = x.iloc[int(i*len(x)/5):int((i+1)*len(x)/5),:] \n",
    "        x_training_fold = x.drop(x.index[int(i*len(x)/5):int((i+1)*len(x)/5)]) # all rows except those selected for the test fold\n",
    "\n",
    "        y_test_fold = y.iloc[int(i*len(x)/5):int((i+1)*len(y)/5),:]\n",
    "        y_training_fold = y.drop(y.index[int(i*len(y)/5):int((i+1)*len(y)/5)])\n",
    "\n",
    "        # run regression\n",
    "        reg = LinearRegression().fit(x_training_fold, y_training_fold)\n",
    "        fold_predict = reg.predict(x_test_fold)\n",
    "\n",
    "        mse_l.append(mean_squared_error(y_test_fold, fold_predict))\n",
    "\n",
    "    return sum(mse_l)/len(mse_l)\n",
    "\n",
    "# By using your above function, find the best combination of features, which has the lowest averaged MSE\n",
    "from itertools import combinations\n",
    "\n",
    "cols = [i for i in training.columns if i != 'cnt'] # return all columns names but the dependent variable\n",
    "\n",
    "all_combo = [] # empty list to house the output of combinations\n",
    "for i in range(len(cols)): # loop through n choose i to get all combinations of various i\n",
    "    all_combo += list(combinations(cols, i+1)) \n",
    "    ### the +1 is essential above. Combinations of 0 length must be removed as regressions cannot be run on dataframes with 0 attributes. \n",
    "\n",
    "all_mse = [] # empty list to house the mse calculated from combinations\n",
    "for n, i in enumerate(all_combo):\n",
    "    all_mse.append([cross_val_mse(training[list(i)], training[['cnt']]), n])"
   ]
  },
  {
   "cell_type": "code",
   "execution_count": 42,
   "metadata": {},
   "outputs": [
    {
     "output_type": "stream",
     "name": "stdout",
     "text": [
      "Minimum mse on every combination of 11 unencoded attributes: 22483.88746930795\nMinimum mse combination of attributes: ('season', 'mnth', 'hr', 'weekday', 'weathersit', 'atemp', 'hum')\n"
     ]
    }
   ],
   "source": [
    "# Print the best features \n",
    "optimal, optimal_mse = all_combo[min(all_mse)[1]], min(all_mse)[0]\n",
    "print(f'Minimum mse on every combination of 11 unencoded attributes: {optimal_mse}')\n",
    "print(f'Minimum mse combination of attributes: {optimal}')"
   ]
  },
  {
   "cell_type": "markdown",
   "metadata": {},
   "source": [
    "### Test your model\n",
    "Now, apply your best model to predict the target values from the test feature set \"BikeSharing_Xtest.csv\". We will grade this part based on your prediction error.\n",
    "\n",
    "Hint: Please be careful on standardization and one-hot encoding (if you use), the test set should be consistent with the training set in terms of any transformation.\n",
    "\n",
    "Hint2: You may want to modify the previous steps to make the transformation of the test set consistent with the training set."
   ]
  },
  {
   "cell_type": "code",
   "execution_count": 32,
   "metadata": {},
   "outputs": [
    {
     "output_type": "stream",
     "name": "stdout",
     "text": [
      "(200, 1)\n"
     ]
    },
    {
     "output_type": "execute_result",
     "data": {
      "text/plain": [
       "array([[251.25 ],\n",
       "       [149.125],\n",
       "       [423.   ],\n",
       "       [378.5  ],\n",
       "       [404.75 ]])"
      ]
     },
     "metadata": {},
     "execution_count": 32
    }
   ],
   "source": [
    "# Output your prediction on test set as y_pred. It should be a 200 x 1 vector.\n",
    "test = pd.read_csv('BikeSharing_Xtest.csv') # load test data\n",
    "\n",
    "# onehotencoding relevant categorical variables for better fit and merging dataframes\n",
    "model_category_array = OneHotEncoder().fit_transform(training[['season', 'mnth', 'hr', 'weekday', 'weathersit']])\n",
    "model_new_df = pd.DataFrame(model_category_array.toarray())\n",
    "training_model = training.drop(training[[i for i in training.columns if i not in optimal and i != 'cnt']], axis=1)\n",
    "training_model = training_model.drop(training_model[['season', 'mnth', 'hr', 'weekday', 'weathersit']], axis=1)\n",
    "training_model = training_model.join(model_new_df)\n",
    "\n",
    "final_cols = [i for i in training_model.columns if i != 'cnt']\n",
    "\n",
    "final_model = LinearRegression().fit(training_model[final_cols], training_model[['cnt']])\n",
    "\n",
    "# onehotencoding same relevant categorical variables for better fit and merging dataframes on test dataframe\n",
    "test_category_array = OneHotEncoder().fit_transform(test[['season', 'mnth', 'hr', 'weekday', 'weathersit']])\n",
    "test_new_df = pd.DataFrame(test_category_array.toarray())\n",
    "test_model = test.drop(test[[i for i in test.columns if i not in optimal]], axis=1)\n",
    "test_model = test_model.drop(test_model[['season', 'mnth', 'hr', 'weekday', 'weathersit']], axis=1)\n",
    "test_model = test_model.join(test_new_df)\n",
    "\n",
    "# y_pred =\n",
    "y_pred = final_model.predict(test_model)\n",
    "print(y_pred.shape)\n",
    "y_pred[0:5]"
   ]
  },
  {
   "cell_type": "code",
   "execution_count": 22,
   "metadata": {},
   "outputs": [],
   "source": [
    "#end"
   ]
  }
 ],
 "metadata": {
  "kernelspec": {
   "display_name": "Python 3",
   "language": "python",
   "name": "python3"
  },
  "language_info": {
   "codemirror_mode": {
    "name": "ipython",
    "version": 3
   },
   "file_extension": ".py",
   "mimetype": "text/x-python",
   "name": "python",
   "nbconvert_exporter": "python",
   "pygments_lexer": "ipython3",
   "version": "3.8.3-final"
  }
 },
 "nbformat": 4,
 "nbformat_minor": 2
}